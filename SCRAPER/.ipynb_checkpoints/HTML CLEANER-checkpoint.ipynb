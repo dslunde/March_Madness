{
 "cells": [
  {
   "cell_type": "code",
   "execution_count": 2,
   "metadata": {
    "collapsed": true
   },
   "outputs": [],
   "source": [
    "import os\n",
    "import pandas as pds\n",
    "import html5lib\n",
    "import numpy as np\n",
    "from bs4 import BeautifulSoup"
   ]
  },
  {
   "cell_type": "code",
   "execution_count": 14,
   "metadata": {
    "collapsed": false
   },
   "outputs": [
    {
     "name": "stderr",
     "output_type": "stream",
     "text": [
      "/anaconda/lib/python3.6/site-packages/ipykernel/__main__.py:59: SettingWithCopyWarning: \n",
      "A value is trying to be set on a copy of a slice from a DataFrame\n",
      "\n",
      "See the caveats in the documentation: http://pandas.pydata.org/pandas-docs/stable/indexing.html#indexing-view-versus-copy\n",
      "/anaconda/lib/python3.6/site-packages/ipykernel/__main__.py:60: SettingWithCopyWarning: \n",
      "A value is trying to be set on a copy of a slice from a DataFrame\n",
      "\n",
      "See the caveats in the documentation: http://pandas.pydata.org/pandas-docs/stable/indexing.html#indexing-view-versus-copy\n",
      "/anaconda/lib/python3.6/site-packages/ipykernel/__main__.py:61: SettingWithCopyWarning: \n",
      "A value is trying to be set on a copy of a slice from a DataFrame\n",
      "\n",
      "See the caveats in the documentation: http://pandas.pydata.org/pandas-docs/stable/indexing.html#indexing-view-versus-copy\n"
     ]
    }
   ],
   "source": [
    "# Where I'm storing the data\n",
    "base_path = '../DATA/'\n",
    "# Possible table numbers from scraper\n",
    "table_numbers = ['0','1','2','3']\n",
    "# Walk through scraped data\n",
    "for dir_path , dir_name , file_names in os.walk(base_path) :\n",
    "    for name in file_names :\n",
    "        # Scouting Report formatting\n",
    "        if name == 'Scouting_Report' :\n",
    "            with open(os.path.join(dir_path,name),'r') as infile :\n",
    "                report = infile.read()\n",
    "                # Remove extra information\n",
    "                report = report[332:358] + report[496:]\n",
    "            # Read scouting report\n",
    "            team = pds.read_html(report)[0]\n",
    "            # Rename columns\n",
    "            team.columns = ['Category','Offense','Defense','D-I Avg.']\n",
    "            # Drop columns without data\n",
    "            team = team.dropna(thresh=2)\n",
    "            # Fix certain rows with unapplicable columns\n",
    "            for ind in [1,24,25,27,28,29,30] :\n",
    "                # Remove ranking number in offense\n",
    "                team.set_value(ind,'Offense',(team.loc[ind]['Offense']).split(' ')[0])\n",
    "                # Trim superfluous symbols from offense stats in these rows\n",
    "                if team.loc[ind]['Offense'][0] == '+' :\n",
    "                    team.set_value(ind,'Offense',team.loc[ind]['Offense'][1:])\n",
    "                elif team.loc[ind]['Offense'][-1] == r'%' :\n",
    "                    team.set_value(ind,'Offense',team.loc[ind]['Offense'][:-1])\n",
    "                elif team.loc[ind]['Offense'][-1] == r'\"' :\n",
    "                    team.set_value(ind,'Offense',team.loc[ind]['Offense'][:-1])\n",
    "                # Convert the string to a float\n",
    "                team.set_value(ind,'Offense',float(team.loc[ind]['Offense']))\n",
    "                # Remove ranking number in defense\n",
    "                team.set_value(ind,'Defense',(team.loc[ind]['Defense']).split(' ')[0])\n",
    "                # Trim superfluous symbols from defense stats in these rows\n",
    "                if team.loc[ind]['Defense'][-1] == r'%' :\n",
    "                    team.set_value(ind,'Defense',team.loc[ind]['Defense'][:-1])\n",
    "                elif team.loc[ind]['Defense'][-1] == r'\"' :\n",
    "                    team.set_value(ind,'Defense',team.loc[ind]['Defense'][:-1])\n",
    "                # The 'defense' stat should really be the D-I Avg. stat\n",
    "                team.set_value(ind,'D-I Avg.',team.loc[ind]['Defense'])\n",
    "                # The actual defense stat is the same as the offense stat\n",
    "                team.set_value(ind,'Defense',team.loc[ind]['Offense'])\n",
    "            # Fill in any not applicables with an appropriate string\n",
    "            team = team.fillna('N/A')\n",
    "            # Remove ranking from offense and defense values for other columns\n",
    "            for ind in team.index :\n",
    "                if ind not in [1,17,24,25,27,28,29,30] :\n",
    "                    team.set_value(ind,'Offense',(team.loc[ind]['Offense']).split(' ')[0])\n",
    "                    team.set_value(ind,'Offense',float(team.loc[ind]['Offense']))\n",
    "                    team.set_value(ind,'Defense',(team.loc[ind]['Defense']).split(' ')[0])\n",
    "                # 17 is the special case where they're all the same\n",
    "                elif ind == 17 :\n",
    "                    team.set_value(ind,'Defense',team.loc[ind]['Offense'])\n",
    "                    team.set_value(ind,'D-I Avg.',team.loc[ind]['Offense'])\n",
    "            # Save\n",
    "            team.to_csv(os.path.join(dir_path,name) + '_csv')\n",
    "        elif name[-1] in table_numbers :\n",
    "            with open(os.path.join(dir_path,name),'r') as infile :\n",
    "                table = infile.read()\n",
    "                # Remove empty superfluous <tbody> attribute\n",
    "                table = table[:28] + table[44:]\n",
    "            # Read in html\n",
    "            player = pds.read_html(table)[0]\n",
    "            # Replace unnamed columns and filter out unnecessary data\n",
    "            new_columns = list(player.columns)\n",
    "            new_columns[1] = 'Date'\n",
    "            new_columns[5] = 'OTs'\n",
    "            new_columns[7] = 'Conference'\n",
    "            player.columns = new_columns\n",
    "            # Change \"Did not play\" status to 0 values\n",
    "            for ind in player.index :\n",
    "                if player.loc[ind]['St'] == \"Did not play\" :\n",
    "                    player.set_value(ind,'MP',0)\n",
    "                    player.set_value(ind,'ORtg',0)\n",
    "                    player.set_value(ind,'%Ps',0)\n",
    "                    player.set_value(ind,'Pts',0)\n",
    "                    player.loc[ind,'2Pt'] = '0-0'\n",
    "                    player.loc[ind,'3Pt'] = '0-0'\n",
    "                    player.loc[ind,'FT'] = '0-0'\n",
    "                    player.set_value(ind,'OR',0)\n",
    "                    player.set_value(ind,'DR',0)\n",
    "                    player.set_value(ind,'A',0)\n",
    "                    player.set_value(ind,'TO',0)\n",
    "                    player.set_value(ind,'Blk',0)\n",
    "                    player.set_value(ind,'Stl',0)\n",
    "                    player.set_value(ind,'PF',0)\n",
    "            # Filter based on important stats\n",
    "            player = player.filter(['Date','Opponent','Result','OTs','Site',\n",
    "                                    'Conference','MP','ORtg','%Ps','Pts','2Pt',\n",
    "                                    '3Pt','FT','OR','DR','A','TO','Blk','Stl','PF'])\n",
    "            # Drop NaN rows\n",
    "            player = player.dropna(thresh=6)\n",
    "            # Switch NaN to '0OT' in the OTs column\n",
    "            player = player.fillna('0OT')\n",
    "            # Switches - to 0\n",
    "            player = player.replace('-',0)\n",
    "            # Save\n",
    "            player.to_csv(os.path.join(dir_path,name) + '_csv')"
   ]
  },
  {
   "cell_type": "code",
   "execution_count": 131,
   "metadata": {
    "collapsed": false
   },
   "outputs": [
    {
     "name": "stdout",
     "output_type": "stream",
     "text": [
      "\"\n"
     ]
    }
   ],
   "source": []
  },
  {
   "cell_type": "code",
   "execution_count": null,
   "metadata": {
    "collapsed": true
   },
   "outputs": [],
   "source": []
  }
 ],
 "metadata": {
  "kernelspec": {
   "display_name": "Python 3",
   "language": "python",
   "name": "python3"
  },
  "language_info": {
   "codemirror_mode": {
    "name": "ipython",
    "version": 3
   },
   "file_extension": ".py",
   "mimetype": "text/x-python",
   "name": "python",
   "nbconvert_exporter": "python",
   "pygments_lexer": "ipython3",
   "version": "3.6.0"
  }
 },
 "nbformat": 4,
 "nbformat_minor": 2
}
