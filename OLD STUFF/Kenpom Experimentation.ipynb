{
 "cells": [
  {
   "cell_type": "code",
   "execution_count": 59,
   "metadata": {
    "collapsed": true
   },
   "outputs": [],
   "source": [
    "from bs4 import BeautifulSoup\n",
    "import requests\n",
    "import pandas as pd\n",
    "import numpy as np\n",
    "import re"
   ]
  },
  {
   "cell_type": "code",
   "execution_count": 60,
   "metadata": {
    "collapsed": false
   },
   "outputs": [],
   "source": [
    "# Base url, and a lambda func to return url for a given player\n",
    "base_url = 'http://kenpom.com/player.php'\n",
    "url_player = lambda x: '%s?p=%s' % (base_url, str(x))\n",
    "cookies = {'darrenlund59@gmail.com':'qwerty12345'}\n",
    "\n",
    "# Players on kenpom's site (could also scrape this and \n",
    "# set as a list if you want to be more dynamic)\n",
    "players = range(1, 32351)"
   ]
  },
  {
   "cell_type": "code",
   "execution_count": null,
   "metadata": {
    "collapsed": true
   },
   "outputs": [],
   "source": [
    "# Extend requests class for kenpom authentication\n",
    "class MyAuth(requests.auth.AuthBase) :\n",
    "    def __call__(self,r) :\n",
    "        \n",
    "        return r"
   ]
  },
  {
   "cell_type": "code",
   "execution_count": 78,
   "metadata": {
    "collapsed": false
   },
   "outputs": [],
   "source": [
    "# Create a method that parses a given player and spits out a raw dataframe\n",
    "def import_raw_player(player):\n",
    "    \"\"\"\n",
    "    Imports raw data from a ken pom player into a dataframe\n",
    "    \"\"\"\n",
    "    f = requests.get(url_player(player), auth=('darrenlund59@gmail.com','qwerty12345'))\n",
    "    soup = BeautifulSoup(f.text)\n",
    "    #print(soup)\n",
    "    login = soup.find_all('input')\n",
    "    login[0]['name'] = 'darrenlund59@gmail.com'\n",
    "    login[1]['name'] = 'qwerty12345'\n",
    "    print(login)\n",
    "    table_html = soup.find_all('table', {'id': 'ratings-table'})\n",
    "\n",
    "    # Weird issue w/ <thead> in the html\n",
    "    # Prevents us from just using pd.read_html\n",
    "    # Let's find all the thead contents and just replace/remove them\n",
    "    # This allows us to easily put the table row data into a dataframe using panda\n",
    "    thead = table_html[0].find_all('thead')\n",
    "\n",
    "    table = table_html[0]\n",
    "    for x in thead:\n",
    "        table = str(table).replace(str(x), '')\n",
    "\n",
    "#    table = \"<table id='ratings-table'>%s</table>\" % table\n",
    "    df = pd.read_html(table)[0]\n",
    "    df['player'] = player\n",
    "    return df"
   ]
  },
  {
   "cell_type": "code",
   "execution_count": 79,
   "metadata": {
    "collapsed": false
   },
   "outputs": [
    {
     "name": "stdout",
     "output_type": "stream",
     "text": [
      "[<input name=\"darrenlund59@gmail.com\" type=\"text\"/>, <input name=\"qwerty12345\" type=\"password\"/>, <input name=\"submit\" type=\"submit\" value=\"Login!\"/>, <input name=\"remember\" type=\"checkbox\"/>, <input id=\"teams\" name=\"team\" placeholder=\"Search teams\"/>, <input id=\"coaches\" name=\"c\" placeholder=\"Search coaches\"/>, <input name=\"email1\" type=\"text\"/>, <input name=\"email2\" type=\"text\"/>, <input name=\"password1\" type=\"password\"/>, <input name=\"password2\" type=\"password\"/>, <input class=\"checkbox\" name=\"agree\" type=\"checkbox\" value=\"checked\"/>, <input alt=\"PayPal - The safer, easier way to pay online!\" border=\"0\" class=\"submit-button\" name=\"submit\" src=\"https://www.paypalobjects.com/en_US/i/btn/btn_buynowCC_LG.gif\" type=\"image\"/>]\n"
     ]
    },
    {
     "name": "stderr",
     "output_type": "stream",
     "text": [
      "/anaconda/lib/python3.6/site-packages/bs4/__init__.py:181: UserWarning: No parser was explicitly specified, so I'm using the best available HTML parser for this system (\"lxml\"). This usually isn't a problem, but if you run this code on another system, or in a different virtual environment, it may use a different parser and behave differently.\n",
      "\n",
      "The code that caused this warning is on line 193 of the file /anaconda/lib/python3.6/runpy.py. To get rid of this warning, change code that looks like this:\n",
      "\n",
      " BeautifulSoup([your markup])\n",
      "\n",
      "to this:\n",
      "\n",
      " BeautifulSoup([your markup], \"lxml\")\n",
      "\n",
      "  markup_type=markup_type))\n"
     ]
    },
    {
     "ename": "IndexError",
     "evalue": "list index out of range",
     "output_type": "error",
     "traceback": [
      "\u001b[0;31m---------------------------------------------------------------------------\u001b[0m",
      "\u001b[0;31mIndexError\u001b[0m                                Traceback (most recent call last)",
      "\u001b[0;32m<ipython-input-79-b8c1469ac9c7>\u001b[0m in \u001b[0;36m<module>\u001b[0;34m()\u001b[0m\n\u001b[0;32m----> 1\u001b[0;31m \u001b[0mdf\u001b[0m \u001b[0;34m=\u001b[0m \u001b[0mimport_raw_player\u001b[0m\u001b[0;34m(\u001b[0m\u001b[0;36m21138\u001b[0m\u001b[0;34m)\u001b[0m\u001b[0;34m\u001b[0m\u001b[0m\n\u001b[0m",
      "\u001b[0;32m<ipython-input-78-e11984d7f397>\u001b[0m in \u001b[0;36mimport_raw_player\u001b[0;34m(player)\u001b[0m\n\u001b[1;32m     17\u001b[0m     \u001b[0;31m# Let's find all the thead contents and just replace/remove them\u001b[0m\u001b[0;34m\u001b[0m\u001b[0;34m\u001b[0m\u001b[0m\n\u001b[1;32m     18\u001b[0m     \u001b[0;31m# This allows us to easily put the table row data into a dataframe using panda\u001b[0m\u001b[0;34m\u001b[0m\u001b[0;34m\u001b[0m\u001b[0m\n\u001b[0;32m---> 19\u001b[0;31m     \u001b[0mthead\u001b[0m \u001b[0;34m=\u001b[0m \u001b[0mtable_html\u001b[0m\u001b[0;34m[\u001b[0m\u001b[0;36m0\u001b[0m\u001b[0;34m]\u001b[0m\u001b[0;34m.\u001b[0m\u001b[0mfind_all\u001b[0m\u001b[0;34m(\u001b[0m\u001b[0;34m'thead'\u001b[0m\u001b[0;34m)\u001b[0m\u001b[0;34m\u001b[0m\u001b[0m\n\u001b[0m\u001b[1;32m     20\u001b[0m \u001b[0;34m\u001b[0m\u001b[0m\n\u001b[1;32m     21\u001b[0m     \u001b[0mtable\u001b[0m \u001b[0;34m=\u001b[0m \u001b[0mtable_html\u001b[0m\u001b[0;34m[\u001b[0m\u001b[0;36m0\u001b[0m\u001b[0;34m]\u001b[0m\u001b[0;34m\u001b[0m\u001b[0m\n",
      "\u001b[0;31mIndexError\u001b[0m: list index out of range"
     ]
    }
   ],
   "source": [
    "df = import_raw_player(21138)"
   ]
  },
  {
   "cell_type": "code",
   "execution_count": null,
   "metadata": {
    "collapsed": true
   },
   "outputs": [],
   "source": []
  }
 ],
 "metadata": {
  "kernelspec": {
   "display_name": "Python 3",
   "language": "python",
   "name": "python3"
  },
  "language_info": {
   "codemirror_mode": {
    "name": "ipython",
    "version": 3
   },
   "file_extension": ".py",
   "mimetype": "text/x-python",
   "name": "python",
   "nbconvert_exporter": "python",
   "pygments_lexer": "ipython3",
   "version": "3.6.0"
  }
 },
 "nbformat": 4,
 "nbformat_minor": 2
}
