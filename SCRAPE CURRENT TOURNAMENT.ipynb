{
 "cells": [
  {
   "cell_type": "code",
   "execution_count": 1,
   "metadata": {
    "collapsed": true
   },
   "outputs": [],
   "source": [
    "# Needed imports\n",
    "import re\n",
    "import time\n",
    "import requests\n",
    "import os\n",
    "import pandas as pd\n",
    "import html5lib\n",
    "from bs4 import BeautifulSoup\n",
    "import numpy as np\n",
    "from selenium import webdriver\n",
    "from selenium.webdriver.common.keys import Keys\n",
    "from selenium.common.exceptions import NoSuchElementException\n",
    "from sklearn.preprocessing import StandardScaler\n",
    "from sklearn.naive_bayes import GaussianNB\n",
    "from sklearn.preprocessing import scale\n",
    "from sklearn.linear_model import LogisticRegression\n",
    "from sklearn.svm import SVC\n",
    "from sklearn.ensemble import RandomForestClassifier\n",
    "from sklearn.decomposition import PCA\n",
    "from matplotlib import pyplot as plt\n",
    "import disp_functions as df\n",
    "plt.rcParams[\"figure.dpi\"] = 300"
   ]
  },
  {
   "cell_type": "code",
   "execution_count": 42,
   "metadata": {
    "collapsed": true
   },
   "outputs": [],
   "source": [
    "# Ceiling function\n",
    "def ceil(n) :\n",
    "    '''\n",
    "    Calculates the ceiling of a number.\n",
    "    \n",
    "    Input :\n",
    "        n (float) - A real number for which you want to find the ceiling value.\n",
    "        \n",
    "    Outpu :\n",
    "        n rounded up.\n",
    "    '''\n",
    "    if int(n) == n :\n",
    "        return n\n",
    "    else :\n",
    "        return int(n)+1\n",
    "\n",
    "# Returns a number mod 40, but returns 40 instead of 0\n",
    "# This is because of how the xpath for the tables on the homepage of kenpom.com is determined.\n",
    "def mod_fix(n,r=40) :\n",
    "    '''\n",
    "    Calculates modular arithmitic, but replaces 0 with n.\n",
    "    \n",
    "    Input :\n",
    "        n (int) - The dividend of the modular arithmitic.\n",
    "        r (int) - The divisor of the modular arithmitic.\n",
    "        \n",
    "    Returns :\n",
    "        n % r , but n instead of 0\n",
    "    '''\n",
    "    if n%r == 0 :\n",
    "        return r\n",
    "    else :\n",
    "        return n%r\n",
    "\n",
    "# Path to data\n",
    "path = \"./DATA/\"\n",
    "\n",
    "# Homepage for kenpom.com\n",
    "home_url = \"https://kenpom.com/\"\n",
    "\n",
    "def login(browser) :\n",
    "    '''\n",
    "    Opens kenpom.com in a chrome browser and prompts user for login information.\n",
    "    Once it logs in, the function exits, leaving the browser open.\n",
    "    \n",
    "    Inputs :\n",
    "        browser - A web browser handle controlled by python.\n",
    "    '''\n",
    "    # Go to webpage\n",
    "    try :\n",
    "        browser.get(home_url)\n",
    "        # Enter user id\n",
    "        try :\n",
    "            # Get the email element\n",
    "            usr = browser.find_element_by_name('email')\n",
    "            # Empty it of contents\n",
    "            usr.clear()\n",
    "            # Prompt user for email\n",
    "            email = str(input(\"EMAIL: \"))\n",
    "            # Type email into element\n",
    "            usr.send_keys(email)\n",
    "        except :\n",
    "            # Should a problem occur, don't do anything\n",
    "            print(\"Couldn't find email.\")\n",
    "            # Raise an error to stop the function\n",
    "            raise ValueError(\"Field not found.\")\n",
    "        # Enter password\n",
    "        try :\n",
    "            # Get the password element\n",
    "            pwd = browser.find_element_by_name('password')\n",
    "            # Clear it of current contents\n",
    "            pwd.clear()\n",
    "            # Prompt user for password\n",
    "            psswd = str(input(\"PASSWORD: \"))\n",
    "            # Type password into element\n",
    "            pwd.send_keys(psswd)\n",
    "        except :\n",
    "            # Should a problem occur, don't do anything\n",
    "            print(\"Couldn't find password bar.\")\n",
    "            # Raise an error to stop the function\n",
    "            raise ValueError(\"Field not found.\")\n",
    "        # Click login button\n",
    "        try :\n",
    "            # Find the button\n",
    "            login = browser.find_element_by_name('submit')\n",
    "            # Click it\n",
    "            login.click()\n",
    "        except :\n",
    "            # If you couldn't for some reason, do nothing\n",
    "            print(\"Couldn't find login button.\")\n",
    "            # Raise an error to stop the function\n",
    "            raise ValueError(\"Button not found.\")\n",
    "        # Switch to new page\n",
    "        browser.switch_to_window(browser.window_handles[-1])\n",
    "    except :\n",
    "        # If the website doesn't exist for some reason, do nothing\n",
    "        print(\"Couldn't find home page.\")\n",
    "        # Raise an error to stop the function\n",
    "        raise ValueError(\"Page not found.\")\n",
    "    return browser\n",
    "\n",
    "def get_scouting_report(browser,team_path) :\n",
    "    '''\n",
    "    Get the scouting report for a specific team from kenpom.com\n",
    "    \n",
    "    Inputs :\n",
    "        browser - The browser we're controlling\n",
    "        team_path (str) - The directory path to the folder where we're saving the info.\n",
    "    '''\n",
    "    # Get scouting report table\n",
    "    # Turn the page into soup\n",
    "    team_soup = BeautifulSoup(browser.page_source, 'html.parser')\n",
    "    # Find the scouting report\n",
    "    report = team_soup.find('div', attrs={'id':'report'})\n",
    "    # Open an html file\n",
    "    with open(team_path+'Scouting_Report','w') as outfile :\n",
    "        # Save table to file\n",
    "        outfile.write(str(report))\n",
    "\n",
    "def get_players(browser,current_team,team_path,year) :\n",
    "    '''\n",
    "    Gets data for the players of a specific team in a specific year\n",
    "    \n",
    "    Inputs :\n",
    "        browser - The browser we're controlling\n",
    "        current_team (handle) - The handle for the team page\n",
    "                                This is the page we want to return to when we're done.\n",
    "        team_path (str) - Path to where we're saving this team's data\n",
    "        year (str) - The current year we're scraping\n",
    "    '''\n",
    "    # The numbers in this range include all players, but some are missing different values.\n",
    "    # This will skip the missing ones and grab the ones that do exist.\n",
    "    for i in range(20) :\n",
    "        try :\n",
    "            # Player link by xpath\n",
    "            player = browser.find_element_by_xpath('//*[@id=\"player-table\"]/tbody/tr[{}]/td[2]/a[1]'.format(i))\n",
    "            # Get the name of the player for the file name\n",
    "            #player_name = player.text\n",
    "            # Open link in new tab\n",
    "            player.send_keys(Keys.COMMAND + Keys.RETURN)\n",
    "            # Wait for tab to load\n",
    "            time.sleep(2)\n",
    "            # Switch view to new tab\n",
    "            browser.find_element_by_tag_name('body').send_keys(Keys.CONTROL + Keys.TAB)\n",
    "            # Switch browser to new tab\n",
    "            browser.switch_to_window(browser.window_handles[-1])\n",
    "            # Get player table and save to player file\n",
    "            player_soup = BeautifulSoup(browser.page_source, 'html.parser')\n",
    "            # Gets player name\n",
    "            player_name = player_soup.find_all('div',attrs={'id' : 'content-header'})[0].find_all('span',attrs={'class' : 'name'})[0].get_text()\n",
    "            # Creates the part of the path for where the player's data will be saved\n",
    "            #player_path = team_path + player_name\n",
    "            # Get schedule data\n",
    "            table = player_soup.find_all('table', attrs={'id':'schedule-table'})\n",
    "            # Check all tables if they're the ones we want\n",
    "            for i in range(len(table)) :\n",
    "                # This element appears above the table pertaining to the desired year's schedule\n",
    "                if browser.find_element_by_xpath('//*[@id=\"players\"]/h3[{}]'.format(i+1)).text == year + \" Game Data\" :\n",
    "                    # Create the file as path_to_team_folder/team_name/player_name #\n",
    "                    # The reson for the # at the end is to verify later that the correct table\n",
    "                    #     was saved.\n",
    "                    with open(team_path+player_name+' {}'.format(i),'w') as outfile :\n",
    "                        # Write the file\n",
    "                        outfile.write(str(table[i]))\n",
    "            # Close the player tab\n",
    "            browser.close()\n",
    "            # Switch to team tab\n",
    "            browser.switch_to_window(current_team)\n",
    "        # If the xpath was for an invalid player (some of them will be) do nothing\n",
    "        except NoSuchElementException :\n",
    "            pass\n",
    "        \n",
    "\n",
    "def get_years(years) :\n",
    "    '''\n",
    "    Goes through kenpom.com year by year for the years provided to scrape data\n",
    "    \n",
    "    Inputs :\n",
    "        years (list) - List of years we want to scrape (strings)\n",
    "    '''\n",
    "    # For each year of interest\n",
    "    for year in years :\n",
    "        # Don't want to overload the server\n",
    "        time.sleep(1)\n",
    "        # Get the link for given year\n",
    "        try :\n",
    "            # Save page, because we'll be returning to it a lot\n",
    "            current_year = browser.current_window_handle\n",
    "            # Create folder for year if not already in existence\n",
    "            if not os.path.exists(path+year+'/') :\n",
    "                os.makedirs(path+year+'/')\n",
    "            # Initialize list of teams\n",
    "            teams = []\n",
    "            # Counter for specific xpath\n",
    "            i = 1\n",
    "            # 68 teams (round of 64 and first 4 gives 4 additional)\n",
    "            while len(teams) < 68 and i < 350:\n",
    "                # Can't hurt to treat the server gently\n",
    "                time.sleep(1)\n",
    "                try :\n",
    "                    # Team link by xpath\n",
    "                    team = browser.find_element_by_xpath('//*[@id=\"ratings-table\"]/tbody[{}]/tr[{}]/td[2]/a'.format(ceil(i/40),mod_fix(i)))\n",
    "                    # Get name of team\n",
    "                    team_name = team.text\n",
    "                    # Open team link in new tab\n",
    "                    team.send_keys(Keys.COMMAND + Keys.RETURN)\n",
    "                    # Wait for tab to load\n",
    "                    time.sleep(2)\n",
    "                    # Switch to new tab\n",
    "                    browser.find_element_by_tag_name('body').send_keys(Keys.CONTROL + Keys.TAB)\n",
    "                    # Update browser to focus on new tab\n",
    "                    browser.switch_to_window(browser.window_handles[-1])\n",
    "                    # Save this team page so that it can be returned to later\n",
    "                    current_team = browser.current_window_handle\n",
    "                    # Set default to True, so that if the xpath exists, we don't need to change anything\n",
    "                    in_tourn = True\n",
    "                    # Try to find a game that was played in the tournament\n",
    "                    try :\n",
    "                        tournament_tag = browser.find_element_by_xpath(\"//*[contains(text(), 'NCAA Tournament')]\")\n",
    "                        '''\n",
    "                        This part is to specify teams that the general scraper may have missed.\n",
    "                        \n",
    "                        # This part is only to be run if we're looking for specific teams\n",
    "                        if team_name == 'Xavier' or team_name == 'TCU' :\n",
    "                            pass\n",
    "                        else :\n",
    "                            tournament_tag = browser.find_element_by_xpath(\"//*[contains(text(), 'NCAA Tournament')]\")\n",
    "                        '''\n",
    "                    except :\n",
    "                        # If we failed, they weren't in the tournament, so we can ignore them\n",
    "                        in_tourn = False\n",
    "                    # If in the Tournament, get data\n",
    "                    if in_tourn :\n",
    "                        # Keep track of teams already in tournament\n",
    "                        teams.append(team_name)\n",
    "                        # Create path to team data\n",
    "                        team_path = path+year+'/'+teams[-1]+'/'\n",
    "                        # If it doesn't exist already, make a new folder\n",
    "                        if not os.path.exists(team_path) :\n",
    "                            os.makedirs(team_path)\n",
    "                        # Grab the scouting report\n",
    "                        get_scouting_report(browser,team_path)\n",
    "                        # Grab player data\n",
    "                        get_players(browser,current_team,team_path,year)\n",
    "                    # Close tab\n",
    "                    browser.close()\n",
    "                    # Switch back to year tab\n",
    "                    browser.switch_to_window(current_year)\n",
    "                # If the specific xpath doesn't exist, don't do anything, go to the next one\n",
    "                except NoSuchElementException :\n",
    "                    pass\n",
    "                # Keep track of how many teams we've tried.\n",
    "                # As there are a finite amount of teams, we can stop once we've tried enough.\n",
    "                i = i + 1\n",
    "        except :\n",
    "            # If there was a problem with a given year, let me know\n",
    "            print(\"Couldn't get data for {}\".format(year))"
   ]
  },
  {
   "cell_type": "code",
   "execution_count": 43,
   "metadata": {
    "collapsed": false
   },
   "outputs": [
    {
     "name": "stdout",
     "output_type": "stream",
     "text": [
      "EMAIL: darrenlund59@gmail.com\n",
      "PASSWORD: Pzb5VNA8ew\n",
      "Couldn't get data for 2018\n"
     ]
    },
    {
     "ename": "NoSuchWindowException",
     "evalue": "Message: no such window: target window already closed\nfrom unknown error: web view not found\n  (Session info: chrome=64.0.3282.186)\n  (Driver info: chromedriver=2.33.506106 (8a06c39c4582fbfbab6966dbb1c38a9173bfb1a2),platform=Mac OS X 10.13.3 x86_64)\n",
     "output_type": "error",
     "traceback": [
      "\u001b[0;31m---------------------------------------------------------------------------\u001b[0m",
      "\u001b[0;31mNoSuchWindowException\u001b[0m                     Traceback (most recent call last)",
      "\u001b[0;32m<ipython-input-43-255347faeb34>\u001b[0m in \u001b[0;36m<module>\u001b[0;34m()\u001b[0m\n\u001b[1;32m     10\u001b[0m \u001b[0mtime\u001b[0m\u001b[0;34m.\u001b[0m\u001b[0msleep\u001b[0m\u001b[0;34m(\u001b[0m\u001b[0;36m2\u001b[0m\u001b[0;34m)\u001b[0m\u001b[0;34m\u001b[0m\u001b[0m\n\u001b[1;32m     11\u001b[0m \u001b[0;31m# Close browser\u001b[0m\u001b[0;34m\u001b[0m\u001b[0;34m\u001b[0m\u001b[0m\n\u001b[0;32m---> 12\u001b[0;31m \u001b[0mbrowser\u001b[0m\u001b[0;34m.\u001b[0m\u001b[0mclose\u001b[0m\u001b[0;34m(\u001b[0m\u001b[0;34m)\u001b[0m\u001b[0;34m\u001b[0m\u001b[0m\n\u001b[0m",
      "\u001b[0;32m/anaconda/lib/python3.6/site-packages/selenium/webdriver/remote/webdriver.py\u001b[0m in \u001b[0;36mclose\u001b[0;34m(self)\u001b[0m\n\u001b[1;32m    591\u001b[0m             \u001b[0mdriver\u001b[0m\u001b[0;34m.\u001b[0m\u001b[0mclose\u001b[0m\u001b[0;34m(\u001b[0m\u001b[0;34m)\u001b[0m\u001b[0;34m\u001b[0m\u001b[0m\n\u001b[1;32m    592\u001b[0m         \"\"\"\n\u001b[0;32m--> 593\u001b[0;31m         \u001b[0mself\u001b[0m\u001b[0;34m.\u001b[0m\u001b[0mexecute\u001b[0m\u001b[0;34m(\u001b[0m\u001b[0mCommand\u001b[0m\u001b[0;34m.\u001b[0m\u001b[0mCLOSE\u001b[0m\u001b[0;34m)\u001b[0m\u001b[0;34m\u001b[0m\u001b[0m\n\u001b[0m\u001b[1;32m    594\u001b[0m \u001b[0;34m\u001b[0m\u001b[0m\n\u001b[1;32m    595\u001b[0m     \u001b[0;32mdef\u001b[0m \u001b[0mquit\u001b[0m\u001b[0;34m(\u001b[0m\u001b[0mself\u001b[0m\u001b[0;34m)\u001b[0m\u001b[0;34m:\u001b[0m\u001b[0;34m\u001b[0m\u001b[0m\n",
      "\u001b[0;32m/anaconda/lib/python3.6/site-packages/selenium/webdriver/remote/webdriver.py\u001b[0m in \u001b[0;36mexecute\u001b[0;34m(self, driver_command, params)\u001b[0m\n\u001b[1;32m    306\u001b[0m         \u001b[0mresponse\u001b[0m \u001b[0;34m=\u001b[0m \u001b[0mself\u001b[0m\u001b[0;34m.\u001b[0m\u001b[0mcommand_executor\u001b[0m\u001b[0;34m.\u001b[0m\u001b[0mexecute\u001b[0m\u001b[0;34m(\u001b[0m\u001b[0mdriver_command\u001b[0m\u001b[0;34m,\u001b[0m \u001b[0mparams\u001b[0m\u001b[0;34m)\u001b[0m\u001b[0;34m\u001b[0m\u001b[0m\n\u001b[1;32m    307\u001b[0m         \u001b[0;32mif\u001b[0m \u001b[0mresponse\u001b[0m\u001b[0;34m:\u001b[0m\u001b[0;34m\u001b[0m\u001b[0m\n\u001b[0;32m--> 308\u001b[0;31m             \u001b[0mself\u001b[0m\u001b[0;34m.\u001b[0m\u001b[0merror_handler\u001b[0m\u001b[0;34m.\u001b[0m\u001b[0mcheck_response\u001b[0m\u001b[0;34m(\u001b[0m\u001b[0mresponse\u001b[0m\u001b[0;34m)\u001b[0m\u001b[0;34m\u001b[0m\u001b[0m\n\u001b[0m\u001b[1;32m    309\u001b[0m             response['value'] = self._unwrap_value(\n\u001b[1;32m    310\u001b[0m                 response.get('value', None))\n",
      "\u001b[0;32m/anaconda/lib/python3.6/site-packages/selenium/webdriver/remote/errorhandler.py\u001b[0m in \u001b[0;36mcheck_response\u001b[0;34m(self, response)\u001b[0m\n\u001b[1;32m    192\u001b[0m         \u001b[0;32melif\u001b[0m \u001b[0mexception_class\u001b[0m \u001b[0;34m==\u001b[0m \u001b[0mUnexpectedAlertPresentException\u001b[0m \u001b[0;32mand\u001b[0m \u001b[0;34m'alert'\u001b[0m \u001b[0;32min\u001b[0m \u001b[0mvalue\u001b[0m\u001b[0;34m:\u001b[0m\u001b[0;34m\u001b[0m\u001b[0m\n\u001b[1;32m    193\u001b[0m             \u001b[0;32mraise\u001b[0m \u001b[0mexception_class\u001b[0m\u001b[0;34m(\u001b[0m\u001b[0mmessage\u001b[0m\u001b[0;34m,\u001b[0m \u001b[0mscreen\u001b[0m\u001b[0;34m,\u001b[0m \u001b[0mstacktrace\u001b[0m\u001b[0;34m,\u001b[0m \u001b[0mvalue\u001b[0m\u001b[0;34m[\u001b[0m\u001b[0;34m'alert'\u001b[0m\u001b[0;34m]\u001b[0m\u001b[0;34m.\u001b[0m\u001b[0mget\u001b[0m\u001b[0;34m(\u001b[0m\u001b[0;34m'text'\u001b[0m\u001b[0;34m)\u001b[0m\u001b[0;34m)\u001b[0m\u001b[0;34m\u001b[0m\u001b[0m\n\u001b[0;32m--> 194\u001b[0;31m         \u001b[0;32mraise\u001b[0m \u001b[0mexception_class\u001b[0m\u001b[0;34m(\u001b[0m\u001b[0mmessage\u001b[0m\u001b[0;34m,\u001b[0m \u001b[0mscreen\u001b[0m\u001b[0;34m,\u001b[0m \u001b[0mstacktrace\u001b[0m\u001b[0;34m)\u001b[0m\u001b[0;34m\u001b[0m\u001b[0m\n\u001b[0m\u001b[1;32m    195\u001b[0m \u001b[0;34m\u001b[0m\u001b[0m\n\u001b[1;32m    196\u001b[0m     \u001b[0;32mdef\u001b[0m \u001b[0m_value_or_default\u001b[0m\u001b[0;34m(\u001b[0m\u001b[0mself\u001b[0m\u001b[0;34m,\u001b[0m \u001b[0mobj\u001b[0m\u001b[0;34m,\u001b[0m \u001b[0mkey\u001b[0m\u001b[0;34m,\u001b[0m \u001b[0mdefault\u001b[0m\u001b[0;34m)\u001b[0m\u001b[0;34m:\u001b[0m\u001b[0;34m\u001b[0m\u001b[0m\n",
      "\u001b[0;31mNoSuchWindowException\u001b[0m: Message: no such window: target window already closed\nfrom unknown error: web view not found\n  (Session info: chrome=64.0.3282.186)\n  (Driver info: chromedriver=2.33.506106 (8a06c39c4582fbfbab6966dbb1c38a9173bfb1a2),platform=Mac OS X 10.13.3 x86_64)\n"
     ]
    }
   ],
   "source": [
    "# Open chrome\n",
    "browser = webdriver.Chrome('./SCRAPER/chromedriver')\n",
    "# Login\n",
    "login(browser)\n",
    "# Years of interest\n",
    "years = ['2018'] #['2013', '2014','2015','2016','2017']\n",
    "# Get data\n",
    "get_years(years)\n",
    "# Pause\n",
    "time.sleep(2)\n",
    "# Close browser\n",
    "browser.close()"
   ]
  },
  {
   "cell_type": "code",
   "execution_count": 44,
   "metadata": {
    "collapsed": false
   },
   "outputs": [],
   "source": [
    "# Where I'm storing the data\n",
    "base_path = './DATA/2018/'\n",
    "# Possible table numbers from scraper\n",
    "table_numbers = ['0','1','2','3']\n",
    "# Walk through scraped data\n",
    "for dir_path , dir_name , file_names in os.walk(base_path) :\n",
    "    for name in file_names :\n",
    "        # Scouting Report formatting\n",
    "        if name == 'Scouting_Report' :\n",
    "            with open(os.path.join(dir_path,name),'r') as infile :\n",
    "                report = infile.read()\n",
    "                # Remove extra information\n",
    "                #report = report[332:358] + report[496:]\n",
    "                report = report[375:401] + report[539:]\n",
    "                #print(report[375:401] + report[539:560])\n",
    "            # Read scouting report\n",
    "            team = pd.read_html(report)[0]\n",
    "            # Rename columns\n",
    "            team.columns = ['Category','Offense','Defense','D-I Avg.']\n",
    "            # Drop columns without data\n",
    "            team = team.dropna(thresh=2)\n",
    "            # Fix certain rows with unapplicable columns\n",
    "            for ind in [1,24,25,27,28,29,30] :\n",
    "                # Remove ranking number in offense\n",
    "                team.set_value(ind,'Offense',(team.loc[ind]['Offense']).split(' ')[0])\n",
    "                # Trim superfluous symbols from offense stats in these rows\n",
    "                if team.loc[ind]['Offense'][0] == '+' :\n",
    "                    team.set_value(ind,'Offense',team.loc[ind]['Offense'][1:])\n",
    "                elif team.loc[ind]['Offense'][-1] == r'%' :\n",
    "                    team.set_value(ind,'Offense',team.loc[ind]['Offense'][:-1])\n",
    "                elif team.loc[ind]['Offense'][-1] == r'\"' :\n",
    "                    team.set_value(ind,'Offense',team.loc[ind]['Offense'][:-1])\n",
    "                # Convert the string to a float\n",
    "                team.set_value(ind,'Offense',float(team.loc[ind]['Offense']))\n",
    "                # Remove ranking number in defense\n",
    "                team.set_value(ind,'Defense',(team.loc[ind]['Defense']).split(' ')[0])\n",
    "                # Trim superfluous symbols from defense stats in these rows\n",
    "                if team.loc[ind]['Defense'][-1] == r'%' :\n",
    "                    team.set_value(ind,'Defense',team.loc[ind]['Defense'][:-1])\n",
    "                elif team.loc[ind]['Defense'][-1] == r'\"' :\n",
    "                    team.set_value(ind,'Defense',team.loc[ind]['Defense'][:-1])\n",
    "                # The 'defense' stat should really be the D-I Avg. stat\n",
    "                team.set_value(ind,'D-I Avg.',team.loc[ind]['Defense'])\n",
    "                # The actual defense stat is the same as the offense stat\n",
    "                team.set_value(ind,'Defense',team.loc[ind]['Offense'])\n",
    "            # Fill in any not applicables with an appropriate string\n",
    "            team = team.fillna('N/A')\n",
    "            # Remove ranking from offense and defense values for other columns\n",
    "            for ind in team.index :\n",
    "                if ind not in [1,17,24,25,27,28,29,30] :\n",
    "                    team.set_value(ind,'Offense',(team.loc[ind]['Offense']).split(' ')[0])\n",
    "                    team.set_value(ind,'Offense',float(team.loc[ind]['Offense']))\n",
    "                    team.set_value(ind,'Defense',(team.loc[ind]['Defense']).split(' ')[0])\n",
    "                # 17 is the special case where they're all the same\n",
    "                elif ind == 17 :\n",
    "                    team.set_value(ind,'Defense',team.loc[ind]['Offense'])\n",
    "                    team.set_value(ind,'D-I Avg.',team.loc[ind]['Offense'])\n",
    "            # Filter to remove extra indicie columns\n",
    "            team = team.filter(['Offense','Defense','D-I Avg.'])\n",
    "            # Save\n",
    "            team.to_csv(os.path.join(dir_path,name) + '_csv')\n",
    "        elif name[-1] in table_numbers :\n",
    "            with open(os.path.join(dir_path,name),'r') as infile :\n",
    "                table = infile.read()\n",
    "                # Remove empty superfluous <tbody> attribute\n",
    "                table = table[:28] + table[44:]\n",
    "            # Read in html\n",
    "            player = pd.read_html(table)[0]\n",
    "            # Replace unnamed columns and filter out unnecessary data\n",
    "            new_columns = list(player.columns)\n",
    "            new_columns[1] = 'Date'\n",
    "            new_columns[5] = 'OTs'\n",
    "            new_columns[7] = 'Conference'\n",
    "            player.columns = new_columns\n",
    "            # Change \"Did not play\" status to 0 values\n",
    "            for ind in player.index :\n",
    "                if player.loc[ind]['St'] == \"Did not play\" :\n",
    "                    player.set_value(ind,'MP',0)\n",
    "                    player.set_value(ind,'ORtg',0)\n",
    "                    player.set_value(ind,'%Ps',0)\n",
    "                    player.set_value(ind,'Pts',0)\n",
    "                    player.loc[ind,'2Pt'] = '0-0'\n",
    "                    player.loc[ind,'3Pt'] = '0-0'\n",
    "                    player.loc[ind,'FT'] = '0-0'\n",
    "                    player.set_value(ind,'OR',0)\n",
    "                    player.set_value(ind,'DR',0)\n",
    "                    player.set_value(ind,'A',0)\n",
    "                    player.set_value(ind,'TO',0)\n",
    "                    player.set_value(ind,'Blk',0)\n",
    "                    player.set_value(ind,'Stl',0)\n",
    "                    player.set_value(ind,'PF',0)\n",
    "            # Filter based on important stats\n",
    "            player = player.filter(['Date','Opponent','Result','OTs','Site',\n",
    "                                    'Conference','MP','ORtg','%Ps','Pts','2Pt',\n",
    "                                    '3Pt','FT','OR','DR','A','TO','Blk','Stl','PF'])\n",
    "            # Drop NaN rows\n",
    "            player = player.dropna(thresh=6)\n",
    "            # Switch NaN to '0OT' in the OTs column\n",
    "            player = player.fillna('0OT')\n",
    "            # Switches - to 0\n",
    "            player = player.replace('-',0)\n",
    "            # Save\n",
    "            player.to_csv(os.path.join(dir_path,name) + '_csv')"
   ]
  },
  {
   "cell_type": "code",
   "execution_count": 45,
   "metadata": {
    "collapsed": false
   },
   "outputs": [],
   "source": [
    "# Load DATA\n",
    "path = './DATA/2018/'\n",
    "\n",
    "# Split function (for 2-pt, 3-pt, and ft)\n",
    "def split(ratio) :\n",
    "    '''\n",
    "    Takes a list of number pairs separated by '-' and splits it into two lists, first and last\n",
    "    \n",
    "    Inputs :\n",
    "        ratio (list) - A list of number pairs\n",
    "        \n",
    "    Outputs :\n",
    "        made (list) - A list of the first numbers\n",
    "        attempt (list) - A list of the last numbers\n",
    "    '''\n",
    "    values = [value.split('-') for value in ratio]\n",
    "    made , attempt = [int(shots[0]) for shots in values], [int(shots[1]) for shots in values]\n",
    "    return made, attempt\n",
    "\n",
    "# Different types of shots\n",
    "shot_types = ['2Pt','3Pt','FT']\n",
    "\n",
    "# Walk through player files\n",
    "for dir_path , dir_name , file_names in os.walk(path) :\n",
    "    # List of players\n",
    "    players = {}\n",
    "    for name in file_names :\n",
    "        # Only worry about cleaned data\n",
    "        if name[-3:] == 'csv' :\n",
    "            # Don't get the Scouting report\n",
    "            if name[:8] != 'Scouting' :\n",
    "                # Read player data\n",
    "                players[name[:-6]] = pd.read_csv(os.path.join(dir_path,name))\n",
    "    # Empty dict for storing team totals later\n",
    "    team_values = {}\n",
    "    # Get total team values\n",
    "    for player in players.keys() :\n",
    "        for shot_type in shot_types :\n",
    "            # Split the number of made and attempted\n",
    "            made , attempt = split(players[player][shot_type].values)\n",
    "            # Add the number of shots player attempted to total team shots for that game\n",
    "            if shot_type in team_values.keys() :\n",
    "                team_values[shot_type] = [team_values[shot_type][i] + attempt[i] for i in range(len(attempt))]\n",
    "            else :\n",
    "                team_values[shot_type] = attempt\n",
    "            # Create the percentage tab\n",
    "            players[player][shot_type+' %'] = [made[i] / attempt[i] if attempt[i] != 0 else 0 for i in range(len(attempt))]\n",
    "    # Add %Att for 2s, 3s, and FT\n",
    "    for player in players.keys() :\n",
    "        for shot_type in shot_types :\n",
    "            # Split number of made and attempted\n",
    "            made , attempt = split(players[player][shot_type].values)\n",
    "            # Get list of percentages\n",
    "            perc_att = [attempt[i] / team_values[shot_type][i] if team_values[shot_type][i] != 0 else 0 for i in range(len(attempt))]\n",
    "            # Create the new column\n",
    "            players[player][shot_type+' %Att'] = perc_att\n",
    "        # Calculate apprx points prevented from blocks and steals\n",
    "        points_prev = [2*(players[player].loc[i]['Blk'] + players[player].loc[i]['Stl'] - players[player].loc[i]['TO']) for i in players[player].index]\n",
    "        # Add data to player\n",
    "        players[player]['Pnts-Prev'] = points_prev\n",
    "        # Get results for point margin\n",
    "        res = players[player]['Result']\n",
    "        # Gets 'W' for win and 'L' for loss\n",
    "        result = [res[i][0] for i in range(len(res))]\n",
    "        # Resets it to exclude the 'W' or 'L'\n",
    "        res = [res[i][3:] for i in range(len(res))]\n",
    "        # Split the scores\n",
    "        score_1 , score_2 = split(res)\n",
    "        # Creates the margin list\n",
    "        margin = [abs(score_1[i]-score_2[i]) if result[i]=='W' else -abs(score_1[i]-score_2[i]) for i in range(len(score_1))]\n",
    "        # Adds the margin column\n",
    "        players[player]['Marg'] = margin\n",
    "        # Refilter to remove extra indices\n",
    "        players[player] = players[player].filter(['Date','Opponent','Result','OTs','Site',\n",
    "                                                  'Conference','MP','ORtg','%Ps','Pts','2Pt',\n",
    "                                                  '3Pt','FT','OR','DR','A','TO','Blk','Stl','PF',\n",
    "                                                  '2Pt %','3Pt %','FT %','2Pt %Att','3Pt %Att',\n",
    "                                                  'FT %Att','Pnts-Prev','Marg'])\n",
    "        # Save new file\n",
    "        players[player].to_csv(os.path.join(dir_path,player)+'_adj')"
   ]
  },
  {
   "cell_type": "code",
   "execution_count": 46,
   "metadata": {
    "collapsed": false
   },
   "outputs": [],
   "source": [
    "path = './DATA/2018/'\n",
    "\n",
    "# Walk through player files\n",
    "for dir_path , dir_name , file_names in os.walk(path) :\n",
    "    # List of players\n",
    "    players = {}\n",
    "    for name in file_names :\n",
    "        # Only worry about adjusted data\n",
    "        if name[-3:] == 'adj' :\n",
    "            # Read player data\n",
    "            players[name[:-4]] = pd.read_csv(os.path.join(dir_path,name))\n",
    "    # Get avgs\n",
    "    cols = ['MP','ORtg','%Ps','Pts','OR','DR','A','TO','Blk','Stl','PF',\n",
    "            '2Pt %','3Pt %','FT %','2Pt %Att','3Pt %Att','FT %Att',\n",
    "            'Pnts-Prev','Marg']\n",
    "    if dir_path[-5:-2] != '201' and dir_path[-5:-1] != 'DATA' :\n",
    "        # Set up empty dataframe\n",
    "        avgs = pd.DataFrame(columns=cols)\n",
    "        for player in players.keys() :\n",
    "            # Get their prominance in the tournament this year\n",
    "            #     This is determined by taking their average % of possessions\n",
    "            #         used during the tournament\n",
    "            #     0 - 00-12%  (Benchwarmer)\n",
    "            #     1 - 12-16%  (Limited role)\n",
    "            #     2 - 16-20%  (Role player)\n",
    "            #     3 - 20-24%  (Significant role)\n",
    "            #     4 - >= 24%  (Major contributor)\n",
    "            # Alternatively, you can rate their prominance as :\n",
    "            #     0 - <=10%  (Practically did not contribute in tournament)\n",
    "            #     1 - >10%  (Did contribute in tournament)\n",
    "            # Both of these are coded, but one should be commented out.\n",
    "            df = players[player]\n",
    "            mask = df['Conference'] != 'NCAA-T'\n",
    "            # Get numerical columns only\n",
    "            data = players[player].filter(cols)\n",
    "            n = len(data.index)\n",
    "            # Compute avgs\n",
    "            plyr_avgs = [sum(data[col].astype(float)*mask)/n for col in cols]\n",
    "            avgs.loc[player] = plyr_avgs\n",
    "        avgs.to_csv(dir_path+'/Player avgs')"
   ]
  },
  {
   "cell_type": "code",
   "execution_count": 2,
   "metadata": {
    "collapsed": true
   },
   "outputs": [],
   "source": [
    "# First, we load in data to select players who will play\n",
    "path = './DATA/'\n",
    "\n",
    "train = []\n",
    "test = []\n",
    "# We'll also save players names as we go\n",
    "players_train = []\n",
    "players_test = []\n",
    "\n",
    "# Walk through player files\n",
    "for dir_path , dir_name , file_names in os.walk(path) :\n",
    "    # 2018 will be our predicting set\n",
    "    if '2018' in dir_path :\n",
    "        for name in file_names :\n",
    "            # Grab avgs file\n",
    "            if name[-4:] == 'avgs' :\n",
    "                data = pd.read_csv(os.path.join(dir_path,name))\n",
    "                # This puts the players name in order of their row in the training matrix\n",
    "                for i in range(data.shape[0]) :\n",
    "                    players_test.append(data.iloc[i,0])\n",
    "                data = data.drop(['Unnamed: 0'],axis=1)\n",
    "                if isinstance(test,list) :\n",
    "                    test = data.as_matrix()\n",
    "                else :\n",
    "                    test = np.vstack((test,data))\n",
    "    # Everything else will become our training set\n",
    "    else :\n",
    "        for name in file_names :\n",
    "            # Grab avgs file\n",
    "            if name[-4:] == 'avgs' :\n",
    "                data = pd.read_csv(os.path.join(dir_path,name))\n",
    "                # This puts the players name in order of their row in the training matrix\n",
    "                for i in range(data.shape[0]) :\n",
    "                    players_train.append(data.iloc[i,0])\n",
    "                data = data.drop(['Unnamed: 0'],axis=1)\n",
    "                if isinstance(train,list) :\n",
    "                    train = data.as_matrix()\n",
    "                else :\n",
    "                    train = np.vstack((train,data.as_matrix()))\n",
    "\n",
    "# From the way the data is saved, the last column is whether or not the player\n",
    "#     is considered a major contributor during the season.\n",
    "train_x = train[:,1:3]\n",
    "train_y = train[:,-1]\n",
    "test_x = test[:,1:3]"
   ]
  },
  {
   "cell_type": "code",
   "execution_count": 3,
   "metadata": {
    "collapsed": true
   },
   "outputs": [],
   "source": [
    "# Do the player selection part"
   ]
  },
  {
   "cell_type": "code",
   "execution_count": 4,
   "metadata": {
    "collapsed": false
   },
   "outputs": [],
   "source": [
    "# The path\n",
    "path = './DATA/'\n",
    "# This is to condense each team into a single row of statistics\n",
    "cols = ['MP','ORtg','%Ps','Pts','OR','DR','A','TO','Blk','Stl','PF','2Pt %','3Pt %','FT %','2Pt %Att','3Pt %Att','FT %Att','Pnts-Prev','Marg']\n",
    "final_data = []\n",
    "final_teams = []\n",
    "# Walk through player files\n",
    "for dir_path , dir_name , file_names in os.walk(path) :\n",
    "    for name in file_names :\n",
    "        # Grab avgs file\n",
    "        if name[-4:] == 'avgs' and '2018' in dir_path :\n",
    "            team_name = dir_path[12:]\n",
    "            final_teams.append(team_name)\n",
    "            data = pd.read_csv(os.path.join(dir_path,name))\n",
    "            # This averages player's contribution to the team\n",
    "            total = np.zeros((1,train.shape[1]-1))\n",
    "            # Count how many people will be playing\n",
    "            num_players = 0\n",
    "            for i in range(data.shape[0]) :\n",
    "                # Get the player name\n",
    "                pl_name = (data.iloc[i,0])\n",
    "                # If playing, append to final_data\n",
    "                if pl_name in players_train :\n",
    "                    ind = players_train.index(pl_name)\n",
    "                    total += train[ind,:-1]\n",
    "                    num_players = num_players + 1\n",
    "            # If there weren't 5 players picked, grab everyone\n",
    "            if num_players < 5 :\n",
    "                for i in range(data.shape[0]) :\n",
    "                    # Get the player name\n",
    "                    pl_name = (data.iloc[i,0])\n",
    "                    ind = players_test.index(pl_name)\n",
    "                    total += train[ind,:-1]\n",
    "                    num_players = num_players + 1\n",
    "            # Divide by num_players to finish average\n",
    "            total /= num_players\n",
    "            total = total[0]\n",
    "            # Add to final_data\n",
    "            if isinstance(final_data,list) :\n",
    "                final_data = np.array(total)\n",
    "            else :\n",
    "                final_data = np.vstack((final_data,total))"
   ]
  },
  {
   "cell_type": "code",
   "execution_count": 5,
   "metadata": {
    "collapsed": false
   },
   "outputs": [],
   "source": [
    "# Save it to a csv file\n",
    "final = pd.DataFrame(data=final_data,columns=cols,index=final_teams)\n",
    "final.to_csv('Data_2/All_avgs_2018.csv')"
   ]
  },
  {
   "cell_type": "code",
   "execution_count": 6,
   "metadata": {
    "collapsed": false
   },
   "outputs": [
    {
     "name": "stdout",
     "output_type": "stream",
     "text": [
      "['Alabama', 'Arizona', 'Arizona St.', 'Arkansas', 'Auburn', 'Bucknell', 'Buffalo', 'Butler', 'Cal St. Fullerton', 'Cincinnati', 'Clemson', 'College of Charleston', 'Creighton', 'Davidson', 'Duke', 'Florida', 'Florida St.', 'Georgia St.', 'Gonzaga', 'Houston', 'Iona', 'Kansas', 'Kansas St.', 'Kentucky', 'Lipscomb', 'LIU Brooklyn', 'Loyola Chicago', 'Marshall', 'Miami FL', 'Michigan', 'Michigan St.', 'Missouri', 'Montana', 'Murray St.', 'Nevada', 'New Mexico St.', 'North Carolina', 'North Carolina Central', 'North Carolina St.', 'Ohio St.', 'Oklahoma', 'Penn', 'Providence', 'Purdue', 'Radford', 'Rhode Island', 'San Diego St.', 'Seton Hall', 'South Dakota St.', 'St. Bonaventure', 'Stephen F. Austin', 'Syracuse', 'TCU', 'Tennessee', 'Texas', 'Texas A&M', 'Texas Southern', 'Texas Tech', 'UCLA', 'UMBC', 'UNC Greensboro', 'Villanova', 'Virginia', 'Virginia Tech', 'West Virginia', 'Wichita St.', 'Wright St.', 'Xavier']\n"
     ]
    }
   ],
   "source": [
    "print(final_teams)"
   ]
  },
  {
   "cell_type": "code",
   "execution_count": 7,
   "metadata": {
    "collapsed": true
   },
   "outputs": [],
   "source": [
    "# Set up tournament list\n",
    "first_four = ['North Carolina Central','Texas Southern','Arizona St.','Syracuse']"
   ]
  },
  {
   "cell_type": "code",
   "execution_count": 8,
   "metadata": {
    "collapsed": true
   },
   "outputs": [],
   "source": [
    "def advance(bracket,clf) :\n",
    "    '''\n",
    "    Advances the bracket from one round to the next\n",
    "    \n",
    "    Input :\n",
    "        bracket (list) - The bracket as it stands (teams that will play each other are sequential)\n",
    "        clf (classifier in the sklearn style) - The trained classifier to make predictions (binary)\n",
    "    Output :\n",
    "        advanced (list) - The list of teams that advanced in the same order as the bracket\n",
    "    '''\n",
    "    assert len(bracket)%2 == 0\n",
    "    all_data = pd.read_csv('./Data_2/All_avgs_2018.csv',index_col=0)\n",
    "    advanced = []\n",
    "    for i in range(len(bracket)//2) :\n",
    "        team1_name = bracket[2*i]\n",
    "        team1 = all_data.loc[team1_name]\n",
    "        # Get average team stats (scouting report)\n",
    "        sc_data = pd.read_csv('./Data/2018/'+team1_name+'/Scouting_Report_csv')\n",
    "        sc_data = sc_data.drop('Unnamed: 0',axis=1)\n",
    "        sc_data = sc_data.drop(14,axis=0)\n",
    "        sc1_off_data = sc_data['Offense']\n",
    "        sc1_def_data = sc_data['Defense']\n",
    "        sc1_data = np.hstack((sc1_off_data.reshape(1,-1)[0].astype(float),sc1_def_data.reshape(1,-1)[0].astype(float)))\n",
    "        team1_final = np.hstack((sc1_data,team1))\n",
    "        team2_name = bracket[2*i+1]\n",
    "        team2 = all_data.loc[team2_name]\n",
    "        # Get average team stats (scouting report)\n",
    "        sc_data = pd.read_csv('./Data/2018/'+team2_name+'/Scouting_Report_csv')\n",
    "        sc_data = sc_data.drop('Unnamed: 0',axis=1)\n",
    "        sc_data = sc_data.drop(14,axis=0)\n",
    "        sc2_off_data = sc_data['Offense']\n",
    "        sc2_def_data = sc_data['Defense']\n",
    "        sc2_data = np.hstack((sc2_off_data.reshape(1,-1)[0].astype(float),sc2_def_data.reshape(1,-1)[0].astype(float)))\n",
    "        team2_final = np.hstack((sc2_data,team2))\n",
    "        to_predict = (team1_final).reshape(1,-1) - (team2_final).reshape(1,-1)\n",
    "#         to_predict = StandardScaler().fit_transform(to_predict)\n",
    "        res = clf.predict(to_predict)\n",
    "        if res == 1 :\n",
    "            advanced.append(bracket[2*i])\n",
    "        else :\n",
    "            advanced.append(bracket[2*i+1])\n",
    "    return advanced"
   ]
  },
  {
   "cell_type": "code",
   "execution_count": 9,
   "metadata": {
    "collapsed": true
   },
   "outputs": [],
   "source": [
    "def advance_sc(bracket,clf) :\n",
    "    '''\n",
    "    Advances the bracket from one round to the next\n",
    "    \n",
    "    Input :\n",
    "        bracket (list) - The bracket as it stands (teams that will play each other are sequential)\n",
    "        clf (classifier in the sklearn style) - The trained classifier to make predictions (binary)\n",
    "    Output :\n",
    "        advanced (list) - The list of teams that advanced in the same order as the bracket\n",
    "    '''\n",
    "    assert len(bracket)%2 == 0\n",
    "    advanced = []\n",
    "    for i in range(len(bracket)//2) :\n",
    "        team1_name = bracket[2*i]\n",
    "        # Get average team stats (scouting report)\n",
    "        sc_data = pd.read_csv('./Data/2018/'+team1_name+'/Scouting_Report_csv')\n",
    "        sc_data = sc_data.drop('Unnamed: 0',axis=1)\n",
    "        sc_data = sc_data.drop(14,axis=0)\n",
    "        sc1_off_data = np.array(sc_data['Offense']).reshape(24)\n",
    "        sc1_def_data = np.array(sc_data['Defense']).reshape(24)\n",
    "        sc1_data = np.hstack((sc1_off_data.astype(float),sc1_def_data.astype(float)))\n",
    "        team2_name = bracket[2*i+1]\n",
    "        # Get average team stats (scouting report)\n",
    "        sc_data = pd.read_csv('./Data/2018/'+team2_name+'/Scouting_Report_csv')\n",
    "        sc_data = sc_data.drop('Unnamed: 0',axis=1)\n",
    "        sc_data = sc_data.drop(14,axis=0)\n",
    "        sc2_off_data = np.array(sc_data['Offense']).reshape(24)\n",
    "        sc2_def_data = np.array(sc_data['Defense']).reshape(24)\n",
    "        sc2_data = np.hstack((sc2_off_data.astype(float),sc2_def_data.astype(float)))\n",
    "        to_predict = ((sc1_data) - (sc2_data)).reshape(1,-1)\n",
    "#         to_predict = StandardScaler().fit_transform(to_predict)\n",
    "        res = clf.predict(to_predict)\n",
    "        if res == 1 :\n",
    "            advanced.append(bracket[2*i])\n",
    "        else :\n",
    "            advanced.append(bracket[2*i+1])\n",
    "    return advanced"
   ]
  },
  {
   "cell_type": "code",
   "execution_count": 10,
   "metadata": {
    "collapsed": true
   },
   "outputs": [],
   "source": [
    "def advance_tm(bracket,clf) :\n",
    "    '''\n",
    "    Advances the bracket from one round to the next\n",
    "    \n",
    "    Input :\n",
    "        bracket (list) - The bracket as it stands (teams that will play each other are sequential)\n",
    "        clf (classifier in the sklearn style) - The trained classifier to make predictions (binary)\n",
    "    Output :\n",
    "        advanced (list) - The list of teams that advanced in the same order as the bracket\n",
    "    '''\n",
    "    assert len(bracket)%2 == 0\n",
    "    all_data = pd.read_csv('./Data_2/All_avgs_2018.csv',index_col=0)\n",
    "    advanced = []\n",
    "    for i in range(len(bracket)//2) :\n",
    "        team1_name = bracket[2*i]\n",
    "        team1 = all_data.loc[team1_name]\n",
    "        team2_name = bracket[2*i+1]\n",
    "        team2 = all_data.loc[team2_name]\n",
    "        to_predict = (team1).reshape(1,-1) - (team2).reshape(1,-1)\n",
    "#         to_predict = StandardScaler().fit_transform(to_predict)\n",
    "        res = clf.predict(to_predict)\n",
    "        if res == 1 :\n",
    "            advanced.append(bracket[2*i])\n",
    "        else :\n",
    "            advanced.append(bracket[2*i+1])\n",
    "    return advanced"
   ]
  },
  {
   "cell_type": "code",
   "execution_count": 11,
   "metadata": {
    "collapsed": true
   },
   "outputs": [],
   "source": [
    "def advance_mine(bracket) :\n",
    "    '''\n",
    "    Advances the bracket from one round to the next\n",
    "    \n",
    "    Input :\n",
    "        bracket (list) - The bracket as it stands (teams that will play each other are sequential)\n",
    "    Output :\n",
    "        advanced (list) - The list of teams that advanced in the same order as the bracket\n",
    "    '''\n",
    "    assert len(bracket)%2 == 0\n",
    "    #all_data = pd.read_csv('./Data_2/All_avgs_2018.csv',index_col=0)\n",
    "    advanced = []\n",
    "    for i in range(len(bracket)//2) :\n",
    "        team1_name = bracket[2*i]\n",
    "        team2_name = bracket[2*i+1]\n",
    "        score1,score2 = df.get_score(team1_name,team2_name,current_year)\n",
    "        if score1 > score2 :\n",
    "            advanced.append(team1_name)\n",
    "        elif score2 > score1 :\n",
    "            advanced.append(team2_name)\n",
    "        else :\n",
    "            print('OT - '+team1_name+' vs. '+team2_name)\n",
    "            if n == 64 or n == 8 or n == 4 or n == 2 :\n",
    "                advanced.append(team1_name)\n",
    "            elif n == 32 :\n",
    "                if i in [0,1,4,5,8,9,12,13] :\n",
    "                    advanced.append(team1_name)\n",
    "                else :\n",
    "                    advanced.append(team2_name)\n",
    "            elif n == 16 :\n",
    "                if i % 2 == 0 :\n",
    "                    advanced.append(team1_name)\n",
    "                else :\n",
    "                    advanced.append(team2_name)\n",
    "    return advanced"
   ]
  },
  {
   "cell_type": "code",
   "execution_count": 12,
   "metadata": {
    "collapsed": true
   },
   "outputs": [],
   "source": [
    "def advance_random(bracket) :\n",
    "    '''\n",
    "    Advances the bracket from one round to the next\n",
    "    \n",
    "    Input :\n",
    "        bracket (list) - The bracket as it stands (teams that will play each other are sequential)\n",
    "    Output :\n",
    "        advanced (list) - The list of teams that advanced in the same order as the bracket\n",
    "    '''\n",
    "    assert len(bracket)%2 == 0\n",
    "    advanced = []\n",
    "    for i in range(len(bracket)//2) :\n",
    "        team1_name = bracket[2*i]\n",
    "        team2_name = bracket[2*i+1]\n",
    "        choice = np.random.randint(0,2)\n",
    "        if choice == 1 :\n",
    "            advanced.append(team1_name)\n",
    "        else :\n",
    "            advanced.append(team2_name)\n",
    "    return advanced"
   ]
  },
  {
   "cell_type": "code",
   "execution_count": 13,
   "metadata": {
    "collapsed": false
   },
   "outputs": [
    {
     "name": "stdout",
     "output_type": "stream",
     "text": [
      "['2013', '2014', '2015', '2016', '2017']\n"
     ]
    },
    {
     "data": {
      "text/plain": [
       "RandomForestClassifier(bootstrap=True, class_weight=None, criterion='gini',\n",
       "            max_depth=5, max_features='auto', max_leaf_nodes=None,\n",
       "            min_impurity_decrease=0.0, min_impurity_split=None,\n",
       "            min_samples_leaf=1, min_samples_split=2,\n",
       "            min_weight_fraction_leaf=0.0, n_estimators=40, n_jobs=1,\n",
       "            oob_score=False, random_state=None, verbose=0,\n",
       "            warm_start=False)"
      ]
     },
     "execution_count": 13,
     "metadata": {},
     "output_type": "execute_result"
    }
   ],
   "source": [
    "current_year = 2018\n",
    "important_years = [str(current_year-i) for i in range(5,0,-1)]\n",
    "print(important_years)\n",
    "train_data = []\n",
    "for year in important_years :\n",
    "    if isinstance(train_data,list) :\n",
    "        train_data = np.array(pd.read_csv('Data_2/New_Form_Combo_'+year))[:,1::]\n",
    "    else :\n",
    "        train_data = np.vstack((train_data,np.array(pd.read_csv('Data_2/New_Form_Combo_'+year))[:,1::]))\n",
    "x = train_data[:,:-1]\n",
    "y = train_data[:,-1]\n",
    "#x = StandardScaler().fit_transform(x)\n",
    "gnb = GaussianNB()\n",
    "gnb.fit(x,y)\n",
    "svc = SVC(probability=True,kernel='linear')\n",
    "svc.fit(x,y)\n",
    "lgr = LogisticRegression(C=0.1)\n",
    "lgr.fit(x,y)\n",
    "rfc = RandomForestClassifier(max_depth=5,n_estimators=40)\n",
    "rfc.fit(x,y)"
   ]
  },
  {
   "cell_type": "code",
   "execution_count": 14,
   "metadata": {
    "collapsed": false
   },
   "outputs": [
    {
     "name": "stderr",
     "output_type": "stream",
     "text": [
      "/anaconda/lib/python3.6/site-packages/ipykernel/__main__.py:23: FutureWarning: reshape is deprecated and will raise in a subsequent release. Please use .values.reshape(...) instead\n",
      "/anaconda/lib/python3.6/site-packages/ipykernel/__main__.py:33: FutureWarning: reshape is deprecated and will raise in a subsequent release. Please use .values.reshape(...) instead\n"
     ]
    },
    {
     "name": "stdout",
     "output_type": "stream",
     "text": [
      "{4: ['North Carolina Central', 'Texas Southern', 'Arizona St.', 'Syracuse'], 2: ['Texas Southern', 'Syracuse']}\n",
      "{4: ['North Carolina Central', 'Texas Southern', 'Arizona St.', 'Syracuse'], 2: ['Texas Southern', 'Syracuse']}\n",
      "{4: ['North Carolina Central', 'Texas Southern', 'Arizona St.', 'Syracuse'], 2: ['Texas Southern', 'Syracuse']}\n",
      "{4: ['North Carolina Central', 'Texas Southern', 'Arizona St.', 'Syracuse'], 2: ['Texas Southern', 'Syracuse']}\n",
      "{4: ['North Carolina Central', 'Texas Southern', 'Arizona St.', 'Syracuse'], 2: ['North Carolina Central', 'Arizona St.']}\n",
      "{4: ['North Carolina Central', 'Texas Southern', 'Arizona St.', 'Syracuse'], 2: ['Texas Southern', 'Syracuse']}\n"
     ]
    }
   ],
   "source": [
    "n = 4\n",
    "first_four_gnb = {4:first_four}\n",
    "first_four_svc = {4:first_four}\n",
    "first_four_lgr = {4:first_four}\n",
    "first_four_rfc = {4:first_four}\n",
    "first_four_myc = {4:first_four}\n",
    "first_four_rand = {4:first_four}\n",
    "\n",
    "# COMBO\n",
    "first_four_gnb[2] = advance(first_four_gnb[4],gnb)\n",
    "first_four_svc[2] = advance(first_four_svc[4],svc)\n",
    "first_four_lgr[2] = advance(first_four_lgr[4],lgr)\n",
    "first_four_rfc[2] = advance(first_four_rfc[4],rfc)\n",
    "first_four_myc[2] = advance_mine(first_four_myc[4])\n",
    "first_four_rand[2] = advance_random(first_four_rand[4])\n",
    "\n",
    "# SC\n",
    "# first_four_gnb[2] = advance_sc(first_four_gnb[4],gnb)\n",
    "# first_four_svc[2] = advance_sc(first_four_svc[4],svc)\n",
    "# first_four_lgr[2] = advance_sc(first_four_lgr[4],lgr)\n",
    "# first_four_rfc[2] = advance_sc(first_four_rfc[4],rfc)\n",
    "# first_four_myc[2] = advance_mine(first_four_myc[4])\n",
    "\n",
    "# TM\n",
    "# first_four_gnb[2] = advance_tm(first_four_gnb[4],gnb)\n",
    "# first_four_svc[2] = advance_tm(first_four_svc[4],svc)\n",
    "# first_four_lgr[2] = advance_tm(first_four_lgr[4],lgr)\n",
    "# first_four_rfc[2] = advance_tm(first_four_rfc[4],rfc)\n",
    "# first_four_myc[2] = advance_mine(first_four_myc[4])\n",
    "\n",
    "print(first_four_gnb)\n",
    "print(first_four_svc)\n",
    "print(first_four_lgr)\n",
    "print(first_four_rfc)\n",
    "print(first_four_myc)\n",
    "print(first_four_rand)"
   ]
  },
  {
   "cell_type": "code",
   "execution_count": 15,
   "metadata": {
    "collapsed": true
   },
   "outputs": [],
   "source": [
    "teams2018_gnb = ['Virginia','UMBC','Creighton','Kansas St.','Kentucky','Davidson','Arizona','Buffalo','Miami FL','Loyola Chicago','Tennessee','Wright St.','Nevada','Texas','Cincinnati','Georgia St.',\n",
    "             'Xavier','Texas Southern','Missouri','Florida St.','Ohio St.','South Dakota St.','Gonzaga','UNC Greensboro','Houston','San Diego St.','Michigan','Montana','Texas A&M','Providence','North Carolina','Lipscomb',\n",
    "            'Villanova','Radford','Virginia Tech','Alabama','West Virginia','Murray St.','Wichita St.','Marshall','Florida','St. Bonaventure','Texas Tech','Stephen F. Austin','Arkansas','Butler','Purdue','Cal St. Fullerton',\n",
    "            'Kansas','Penn','Seton Hall','North Carolina St.','Clemson','New Mexico St.','Auburn','College of Charleston','TCU','Syracuse','Michigan St.','Bucknell','Rhode Island','Oklahoma','Duke','Iona']\n",
    "teams2018_svc = ['Virginia','UMBC','Creighton','Kansas St.','Kentucky','Davidson','Arizona','Buffalo','Miami FL','Loyola Chicago','Tennessee','Wright St.','Nevada','Texas','Cincinnati','Georgia St.',\n",
    "             'Xavier','Texas Southern','Missouri','Florida St.','Ohio St.','South Dakota St.','Gonzaga','UNC Greensboro','Houston','San Diego St.','Michigan','Montana','Texas A&M','Providence','North Carolina','Lipscomb',\n",
    "            'Villanova','Radford','Virginia Tech','Alabama','West Virginia','Murray St.','Wichita St.','Marshall','Florida','St. Bonaventure','Texas Tech','Stephen F. Austin','Arkansas','Butler','Purdue','Cal St. Fullerton',\n",
    "            'Kansas','Penn','Seton Hall','North Carolina St.','Clemson','New Mexico St.','Auburn','College of Charleston','TCU','Syracuse','Michigan St.','Bucknell','Rhode Island','Oklahoma','Duke','Iona']\n",
    "teams2018_lgr = ['Virginia','UMBC','Creighton','Kansas St.','Kentucky','Davidson','Arizona','Buffalo','Miami FL','Loyola Chicago','Tennessee','Wright St.','Nevada','Texas','Cincinnati','Georgia St.',\n",
    "             'Xavier','Texas Southern','Missouri','Florida St.','Ohio St.','South Dakota St.','Gonzaga','UNC Greensboro','Houston','San Diego St.','Michigan','Montana','Texas A&M','Providence','North Carolina','Lipscomb',\n",
    "            'Villanova','Radford','Virginia Tech','Alabama','West Virginia','Murray St.','Wichita St.','Marshall','Florida','St. Bonaventure','Texas Tech','Stephen F. Austin','Arkansas','Butler','Purdue','Cal St. Fullerton',\n",
    "            'Kansas','Penn','Seton Hall','North Carolina St.','Clemson','New Mexico St.','Auburn','College of Charleston','TCU','Syracuse','Michigan St.','Bucknell','Rhode Island','Oklahoma','Duke','Iona']\n",
    "teams2018_rfc = ['Virginia','UMBC','Creighton','Kansas St.','Kentucky','Davidson','Arizona','Buffalo','Miami FL','Loyola Chicago','Tennessee','Wright St.','Nevada','Texas','Cincinnati','Georgia St.',\n",
    "             'Xavier','Texas Southern','Missouri','Florida St.','Ohio St.','South Dakota St.','Gonzaga','UNC Greensboro','Houston','San Diego St.','Michigan','Montana','Texas A&M','Providence','North Carolina','Lipscomb',\n",
    "            'Villanova','Radford','Virginia Tech','Alabama','West Virginia','Murray St.','Wichita St.','Marshall','Florida','St. Bonaventure','Texas Tech','Stephen F. Austin','Arkansas','Butler','Purdue','Cal St. Fullerton',\n",
    "            'Kansas','Penn','Seton Hall','North Carolina St.','Clemson','New Mexico St.','Auburn','College of Charleston','TCU','Syracuse','Michigan St.','Bucknell','Rhode Island','Oklahoma','Duke','Iona']\n",
    "teams2018_myc = ['Virginia','UMBC','Creighton','Kansas St.','Kentucky','Davidson','Arizona','Buffalo','Miami FL','Loyola Chicago','Tennessee','Wright St.','Nevada','Texas','Cincinnati','Georgia St.',\n",
    "             'Xavier','Texas Southern','Missouri','Florida St.','Ohio St.','South Dakota St.','Gonzaga','UNC Greensboro','Houston','San Diego St.','Michigan','Montana','Texas A&M','Providence','North Carolina','Lipscomb',\n",
    "            'Villanova','Radford','Virginia Tech','Alabama','West Virginia','Murray St.','Wichita St.','Marshall','Florida','St. Bonaventure','Texas Tech','Stephen F. Austin','Arkansas','Butler','Purdue','Cal St. Fullerton',\n",
    "            'Kansas','Penn','Seton Hall','North Carolina St.','Clemson','New Mexico St.','Auburn','College of Charleston','TCU','Syracuse','Michigan St.','Bucknell','Rhode Island','Oklahoma','Duke','Iona']"
   ]
  },
  {
   "cell_type": "code",
   "execution_count": 16,
   "metadata": {
    "collapsed": false
   },
   "outputs": [
    {
     "name": "stderr",
     "output_type": "stream",
     "text": [
      "/anaconda/lib/python3.6/site-packages/ipykernel/__main__.py:23: FutureWarning: reshape is deprecated and will raise in a subsequent release. Please use .values.reshape(...) instead\n",
      "/anaconda/lib/python3.6/site-packages/ipykernel/__main__.py:33: FutureWarning: reshape is deprecated and will raise in a subsequent release. Please use .values.reshape(...) instead\n"
     ]
    },
    {
     "name": "stdout",
     "output_type": "stream",
     "text": [
      "OT - Florida vs. St. Bonaventure\n",
      "OT - Murray St. vs. Marshall\n",
      "OT - Arkansas vs. Purdue\n",
      "OT - TCU vs. Michigan St.\n"
     ]
    }
   ],
   "source": [
    "full_tourney_gnb = {64:teams2018_gnb}\n",
    "full_tourney_svc = {64:teams2018_svc}\n",
    "full_tourney_lgr = {64:teams2018_lgr}\n",
    "full_tourney_rfc = {64:teams2018_rfc}\n",
    "full_tourney_myc = {64:teams2018_myc}\n",
    "full_tourney_rand = {64:teams2018_rfc}\n",
    "n = 64\n",
    "while n != 1 :\n",
    "    # COMBO\n",
    "    full_tourney_gnb[n/2] = advance(full_tourney_gnb[n],gnb)\n",
    "    full_tourney_svc[n/2] = advance(full_tourney_svc[n],svc)\n",
    "    full_tourney_lgr[n/2] = advance(full_tourney_lgr[n],lgr)\n",
    "    full_tourney_rfc[n/2] = advance(full_tourney_rfc[n],rfc)\n",
    "    full_tourney_myc[n/2] = advance_mine(full_tourney_myc[n])\n",
    "    full_tourney_rand[n/2] = advance_random(full_tourney_rand[n])\n",
    "\n",
    "    # SC\n",
    "#     full_tourney_gnb[n/2] = advance_sc(full_tourney_gnb[n],gnb)\n",
    "#     full_tourney_svc[n/2] = advance_sc(full_tourney_svc[n],svc)\n",
    "#     full_tourney_lgr[n/2] = advance_sc(full_tourney_lgr[n],lgr)\n",
    "#     full_tourney_rfc[n/2] = advance_sc(full_tourney_rfc[n],rfc)\n",
    "#     full_tourney_myc[n/2] = advance_mine(full_tourney_myc[n])\n",
    "#     full_tourney_rand[n/2] = advance_random(full_tourney_rand[n])\n",
    "    \n",
    "    # TM\n",
    "#     full_tourney_gnb[n/2] = advance_tm(full_tourney_gnb[n],gnb)\n",
    "#     full_tourney_svc[n/2] = advance_tm(full_tourney_svc[n],svc)\n",
    "#     full_tourney_lgr[n/2] = advance_tm(full_tourney_lgr[n],lgr)\n",
    "#     full_tourney_rfc[n/2] = advance_tm(full_tourney_rfc[n],rfc)\n",
    "#     full_tourney_myc[n/2] = advance_mine(full_tourney_myc[n])\n",
    "#     full_tourney_rand[n/2] = advance_random(full_tourney_rand[n])\n",
    "    \n",
    "    n = n/2"
   ]
  },
  {
   "cell_type": "code",
   "execution_count": 17,
   "metadata": {
    "collapsed": false
   },
   "outputs": [
    {
     "name": "stdout",
     "output_type": "stream",
     "text": [
      "['Virginia', 'Creighton', 'Kentucky', 'Arizona', 'Miami FL', 'Tennessee', 'Nevada', 'Cincinnati', 'Xavier', 'Missouri', 'Ohio St.', 'Gonzaga', 'Houston', 'Michigan', 'Texas A&M', 'North Carolina', 'Villanova', 'Alabama', 'West Virginia', 'Wichita St.', 'Florida', 'Texas Tech', 'Arkansas', 'Purdue', 'Kansas', 'Seton Hall', 'Clemson', 'Auburn', 'Syracuse', 'Michigan St.', 'Oklahoma', 'Duke']\n",
      "['Virginia', 'Arizona', 'Tennessee', 'Cincinnati', 'Xavier', 'Gonzaga', 'Houston', 'Texas A&M', 'Villanova', 'West Virginia', 'Texas Tech', 'Purdue', 'Kansas', 'Clemson', 'Michigan St.', 'Duke']\n",
      "['Arizona', 'Tennessee', 'Xavier', 'Texas A&M', 'Villanova', 'Purdue', 'Kansas', 'Duke']\n",
      "['Arizona', 'Texas A&M', 'Villanova', 'Duke']\n",
      "['Arizona', 'Duke']\n",
      "['Duke']\n"
     ]
    }
   ],
   "source": [
    "full_tourney_pagerank = {64:['Virginia','UMBC','Creighton','Kansas St.','Kentucky','Davidson','Arizona','Buffalo','Miami FL','Loyola Chicago','Tennessee','Wright St.','Nevada','Texas','Cincinnati','Georgia St.',\n",
    "             'Xavier','Texas Southern','Missouri','Florida St.','Ohio St.','South Dakota St.','Gonzaga','UNC Greensboro','Houston','San Diego St.','Michigan','Montana','Texas A&M','Providence','North Carolina','Lipscomb',\n",
    "            'Villanova','Radford','Virginia Tech','Alabama','West Virginia','Murray St.','Wichita St.','Marshall','Florida','St. Bonaventure','Texas Tech','Stephen F. Austin','Arkansas','Butler','Purdue','Cal St. Fullerton',\n",
    "            'Kansas','Penn','Seton Hall','North Carolina St.','Clemson','New Mexico St.','Auburn','College of Charleston','TCU','Syracuse','Michigan St.','Bucknell','Rhode Island','Oklahoma','Duke','Iona'],\n",
    "                        32:['Virginia','Creighton','Kentucky','Arizona','Miami FL','Tennessee','Nevada','Cincinnati',\n",
    "             'Xavier','Missouri','Ohio St.','Gonzaga','Houston','Michigan','Texas A&M','North Carolina',\n",
    "            'Villanova','Alabama','West Virginia','Wichita St.','Florida','Texas Tech','Arkansas','Purdue',\n",
    "            'Kansas','Seton Hall','Clemson','Auburn','Syracuse','Michigan St.','Oklahoma','Duke'],\n",
    "                        16:['Virginia','Arizona','Tennessee','Cincinnati','Xavier','Gonzaga','Houston','Texas A&M','Villanova','West Virginia','Texas Tech','Purdue','Kansas','Clemson','Michigan St.','Duke'],\n",
    "                        8:['Arizona','Tennessee','Xavier','Texas A&M','Villanova','Purdue','Kansas','Duke'],\n",
    "                        4:['Arizona','Texas A&M','Villanova','Duke'],\n",
    "                        2:['Arizona','Duke'],1:['Duke']}\n",
    "for i in [32,16,8,4,2,1] :\n",
    "    print(full_tourney_pagerank[i])"
   ]
  },
  {
   "cell_type": "code",
   "execution_count": 18,
   "metadata": {
    "collapsed": false
   },
   "outputs": [
    {
     "name": "stdout",
     "output_type": "stream",
     "text": [
      "['Virginia', 'Creighton', 'Kentucky', 'Arizona', 'Miami FL', 'Tennessee', 'Nevada', 'Cincinnati', 'Xavier', 'Florida St.', 'Ohio St.', 'Gonzaga', 'San Diego St.', 'Michigan', 'Texas A&M', 'North Carolina', 'Villanova', 'Alabama', 'West Virginia', 'Wichita St.', 'Florida', 'Texas Tech', 'Butler', 'Purdue', 'Kansas', 'Seton Hall', 'Clemson', 'Auburn', 'Syracuse', 'Michigan St.', 'Oklahoma', 'Duke']\n",
      "['Virginia', 'Kentucky', 'Miami FL', 'Cincinnati', 'Florida St.', 'Gonzaga', 'Michigan', 'North Carolina', 'Villanova', 'West Virginia', 'Florida', 'Butler', 'Kansas', 'Clemson', 'Michigan St.', 'Duke']\n",
      "['Virginia', 'Cincinnati', 'Gonzaga', 'North Carolina', 'West Virginia', 'Butler', 'Kansas', 'Duke']\n",
      "['Virginia', 'North Carolina', 'Butler', 'Duke']\n",
      "['North Carolina', 'Duke']\n",
      "['Duke']\n"
     ]
    }
   ],
   "source": [
    "for i in [32,16,8,4,2,1] :\n",
    "    print(full_tourney_gnb[i])"
   ]
  },
  {
   "cell_type": "code",
   "execution_count": 19,
   "metadata": {
    "collapsed": false
   },
   "outputs": [
    {
     "name": "stdout",
     "output_type": "stream",
     "text": [
      "['Virginia', 'Kansas St.', 'Kentucky', 'Arizona', 'Miami FL', 'Tennessee', 'Texas', 'Cincinnati', 'Xavier', 'Florida St.', 'Ohio St.', 'Gonzaga', 'Houston', 'Michigan', 'Texas A&M', 'North Carolina', 'Villanova', 'Alabama', 'West Virginia', 'Wichita St.', 'Florida', 'Texas Tech', 'Butler', 'Purdue', 'Kansas', 'North Carolina St.', 'Clemson', 'Auburn', 'Syracuse', 'Michigan St.', 'Rhode Island', 'Duke']\n",
      "['Virginia', 'Kentucky', 'Tennessee', 'Cincinnati', 'Xavier', 'Gonzaga', 'Michigan', 'North Carolina', 'Villanova', 'West Virginia', 'Florida', 'Butler', 'Kansas', 'Auburn', 'Syracuse', 'Duke']\n",
      "['Virginia', 'Tennessee', 'Gonzaga', 'North Carolina', 'Villanova', 'Butler', 'Kansas', 'Duke']\n",
      "['Virginia', 'North Carolina', 'Villanova', 'Kansas']\n",
      "['Virginia', 'Villanova']\n",
      "['Virginia']\n"
     ]
    }
   ],
   "source": [
    "for i in [32,16,8,4,2,1] :\n",
    "    print(full_tourney_svc[i])"
   ]
  },
  {
   "cell_type": "code",
   "execution_count": 20,
   "metadata": {
    "collapsed": false
   },
   "outputs": [
    {
     "name": "stdout",
     "output_type": "stream",
     "text": [
      "['Virginia', 'Creighton', 'Kentucky', 'Arizona', 'Miami FL', 'Tennessee', 'Texas', 'Cincinnati', 'Xavier', 'Florida St.', 'Ohio St.', 'Gonzaga', 'Houston', 'Michigan', 'Texas A&M', 'North Carolina', 'Villanova', 'Alabama', 'West Virginia', 'Wichita St.', 'Florida', 'Texas Tech', 'Butler', 'Purdue', 'Kansas', 'North Carolina St.', 'Clemson', 'Auburn', 'Syracuse', 'Michigan St.', 'Rhode Island', 'Duke']\n",
      "['Virginia', 'Kentucky', 'Tennessee', 'Cincinnati', 'Xavier', 'Gonzaga', 'Michigan', 'North Carolina', 'Villanova', 'West Virginia', 'Florida', 'Butler', 'Kansas', 'Clemson', 'Michigan St.', 'Duke']\n",
      "['Virginia', 'Cincinnati', 'Gonzaga', 'North Carolina', 'Villanova', 'Butler', 'Kansas', 'Duke']\n",
      "['Virginia', 'North Carolina', 'Villanova', 'Kansas']\n",
      "['Virginia', 'Villanova']\n",
      "['Virginia']\n"
     ]
    }
   ],
   "source": [
    "for i in [32,16,8,4,2,1] :\n",
    "    print(full_tourney_lgr[i])"
   ]
  },
  {
   "cell_type": "code",
   "execution_count": 21,
   "metadata": {
    "collapsed": false
   },
   "outputs": [
    {
     "name": "stdout",
     "output_type": "stream",
     "text": [
      "['Virginia', 'Creighton', 'Kentucky', 'Arizona', 'Miami FL', 'Tennessee', 'Texas', 'Cincinnati', 'Xavier', 'Florida St.', 'Ohio St.', 'Gonzaga', 'Houston', 'Michigan', 'Texas A&M', 'North Carolina', 'Villanova', 'Alabama', 'West Virginia', 'Wichita St.', 'Florida', 'Texas Tech', 'Butler', 'Purdue', 'Kansas', 'Seton Hall', 'Clemson', 'Auburn', 'Syracuse', 'Michigan St.', 'Oklahoma', 'Duke']\n",
      "['Virginia', 'Kentucky', 'Tennessee', 'Texas', 'Xavier', 'Gonzaga', 'Michigan', 'North Carolina', 'Villanova', 'West Virginia', 'Florida', 'Butler', 'Kansas', 'Clemson', 'Michigan St.', 'Duke']\n",
      "['Virginia', 'Tennessee', 'Gonzaga', 'North Carolina', 'Villanova', 'Butler', 'Kansas', 'Duke']\n",
      "['Virginia', 'North Carolina', 'Villanova', 'Duke']\n",
      "['North Carolina', 'Duke']\n",
      "['North Carolina']\n"
     ]
    }
   ],
   "source": [
    "for i in [32,16,8,4,2,1] :\n",
    "    print(full_tourney_rfc[i])"
   ]
  },
  {
   "cell_type": "code",
   "execution_count": 22,
   "metadata": {
    "collapsed": false
   },
   "outputs": [
    {
     "name": "stdout",
     "output_type": "stream",
     "text": [
      "['Virginia', 'Creighton', 'Kentucky', 'Buffalo', 'Miami FL', 'Tennessee', 'Nevada', 'Georgia St.', 'Xavier', 'Florida St.', 'Ohio St.', 'Gonzaga', 'San Diego St.', 'Montana', 'Providence', 'Lipscomb', 'Villanova', 'Virginia Tech', 'Murray St.', 'Marshall', 'Florida', 'Stephen F. Austin', 'Arkansas', 'Purdue', 'Kansas', 'North Carolina St.', 'New Mexico St.', 'Auburn', 'TCU', 'Michigan St.', 'Oklahoma', 'Duke']\n",
      "['Creighton', 'Buffalo', 'Miami FL', 'Nevada', 'Florida St.', 'Gonzaga', 'Montana', 'Lipscomb', 'Virginia Tech', 'Murray St.', 'Stephen F. Austin', 'Purdue', 'Kansas', 'New Mexico St.', 'Michigan St.', 'Duke']\n",
      "['Buffalo', 'Nevada', 'Gonzaga', 'Montana', 'Murray St.', 'Stephen F. Austin', 'Kansas', 'Duke']\n",
      "['Buffalo', 'Gonzaga', 'Stephen F. Austin', 'Duke']\n",
      "['Gonzaga', 'Duke']\n",
      "['Duke']\n"
     ]
    }
   ],
   "source": [
    "for i in [32,16,8,4,2,1] :\n",
    "    print(full_tourney_myc[i])"
   ]
  },
  {
   "cell_type": "code",
   "execution_count": 23,
   "metadata": {
    "collapsed": false
   },
   "outputs": [
    {
     "name": "stdout",
     "output_type": "stream",
     "text": [
      "['Virginia', 'Kansas St.', 'Kentucky', 'Arizona', 'Loyola Chicago', 'Wright St.', 'Nevada', 'Cincinnati', 'Texas Southern', 'Missouri', 'South Dakota St.', 'Gonzaga', 'San Diego St.', 'Montana', 'Providence', 'North Carolina', 'Villanova', 'Alabama', 'West Virginia', 'Wichita St.', 'St. Bonaventure', 'Stephen F. Austin', 'Butler', 'Cal St. Fullerton', 'Kansas', 'Seton Hall', 'Clemson', 'College of Charleston', 'Syracuse', 'Bucknell', 'Oklahoma', 'Iona']\n",
      "['Virginia', 'Arizona', 'Loyola Chicago', 'Cincinnati', 'Texas Southern', 'South Dakota St.', 'Montana', 'Providence', 'Villanova', 'West Virginia', 'Stephen F. Austin', 'Butler', 'Kansas', 'College of Charleston', 'Bucknell', 'Oklahoma']\n",
      "['Arizona', 'Cincinnati', 'South Dakota St.', 'Providence', 'Villanova', 'Butler', 'Kansas', 'Bucknell']\n",
      "['Arizona', 'Providence', 'Butler', 'Bucknell']\n",
      "['Arizona', 'Butler']\n",
      "['Butler']\n"
     ]
    }
   ],
   "source": [
    "for i in [32,16,8,4,2,1] :\n",
    "    print(full_tourney_rand[i])"
   ]
  },
  {
   "cell_type": "code",
   "execution_count": 82,
   "metadata": {
    "collapsed": false
   },
   "outputs": [
    {
     "name": "stderr",
     "output_type": "stream",
     "text": [
      "/anaconda/lib/python3.6/site-packages/ipykernel/__main__.py:23: FutureWarning: reshape is deprecated and will raise in a subsequent release. Please use .values.reshape(...) instead\n"
     ]
    },
    {
     "ename": "KeyError",
     "evalue": "'the label [Kansas State] is not in the [index]'",
     "output_type": "error",
     "traceback": [
      "\u001b[0;31m---------------------------------------------------------------------------\u001b[0m",
      "\u001b[0;31mKeyError\u001b[0m                                  Traceback (most recent call last)",
      "\u001b[0;32m/anaconda/lib/python3.6/site-packages/pandas/core/indexing.py\u001b[0m in \u001b[0;36m_has_valid_type\u001b[0;34m(self, key, axis)\u001b[0m\n\u001b[1;32m   1433\u001b[0m                 \u001b[0;32mif\u001b[0m \u001b[0;32mnot\u001b[0m \u001b[0max\u001b[0m\u001b[0;34m.\u001b[0m\u001b[0mcontains\u001b[0m\u001b[0;34m(\u001b[0m\u001b[0mkey\u001b[0m\u001b[0;34m)\u001b[0m\u001b[0;34m:\u001b[0m\u001b[0;34m\u001b[0m\u001b[0m\n\u001b[0;32m-> 1434\u001b[0;31m                     \u001b[0merror\u001b[0m\u001b[0;34m(\u001b[0m\u001b[0;34m)\u001b[0m\u001b[0;34m\u001b[0m\u001b[0m\n\u001b[0m\u001b[1;32m   1435\u001b[0m             \u001b[0;32mexcept\u001b[0m \u001b[0mTypeError\u001b[0m \u001b[0;32mas\u001b[0m \u001b[0me\u001b[0m\u001b[0;34m:\u001b[0m\u001b[0;34m\u001b[0m\u001b[0m\n",
      "\u001b[0;32m/anaconda/lib/python3.6/site-packages/pandas/core/indexing.py\u001b[0m in \u001b[0;36merror\u001b[0;34m()\u001b[0m\n\u001b[1;32m   1428\u001b[0m                 raise KeyError(\"the label [%s] is not in the [%s]\" %\n\u001b[0;32m-> 1429\u001b[0;31m                                (key, self.obj._get_axis_name(axis)))\n\u001b[0m\u001b[1;32m   1430\u001b[0m \u001b[0;34m\u001b[0m\u001b[0m\n",
      "\u001b[0;31mKeyError\u001b[0m: 'the label [Kansas State] is not in the [index]'",
      "\nDuring handling of the above exception, another exception occurred:\n",
      "\u001b[0;31mKeyError\u001b[0m                                  Traceback (most recent call last)",
      "\u001b[0;32m<ipython-input-82-77376538936d>\u001b[0m in \u001b[0;36m<module>\u001b[0;34m()\u001b[0m\n\u001b[1;32m      1\u001b[0m \u001b[0mactual_tourney\u001b[0m \u001b[0;34m=\u001b[0m \u001b[0;34m{\u001b[0m\u001b[0;36m64\u001b[0m\u001b[0;34m:\u001b[0m\u001b[0mteams2018_lgr\u001b[0m\u001b[0;34m,\u001b[0m \u001b[0;36m32\u001b[0m\u001b[0;34m:\u001b[0m\u001b[0;34m[\u001b[0m\u001b[0;34m'Virginia'\u001b[0m\u001b[0;34m,\u001b[0m \u001b[0;34m'Kansas State'\u001b[0m\u001b[0;34m,\u001b[0m \u001b[0;34m'Kentucky'\u001b[0m\u001b[0;34m,\u001b[0m \u001b[0;34m'Arizona'\u001b[0m\u001b[0;34m,\u001b[0m \u001b[0;34m'Miami FL'\u001b[0m\u001b[0;34m,\u001b[0m \u001b[0;34m'Tennessee'\u001b[0m\u001b[0;34m,\u001b[0m \u001b[0;34m'Nevada'\u001b[0m\u001b[0;34m,\u001b[0m \u001b[0;34m'Cincinnati'\u001b[0m\u001b[0;34m,\u001b[0m \u001b[0;34m'Xavier'\u001b[0m\u001b[0;34m,\u001b[0m \u001b[0;34m'Florida St.'\u001b[0m\u001b[0;34m,\u001b[0m \u001b[0;34m'South Dakota St.'\u001b[0m\u001b[0;34m,\u001b[0m \u001b[0;34m'Gonzaga'\u001b[0m\u001b[0;34m,\u001b[0m \u001b[0;34m'San Diego St.'\u001b[0m\u001b[0;34m,\u001b[0m \u001b[0;34m'Michigan'\u001b[0m\u001b[0;34m,\u001b[0m \u001b[0;34m'Texas A&M'\u001b[0m\u001b[0;34m,\u001b[0m \u001b[0;34m'North Carolina'\u001b[0m\u001b[0;34m,\u001b[0m \u001b[0;34m'Villanova'\u001b[0m\u001b[0;34m,\u001b[0m \u001b[0;34m'Alabama'\u001b[0m\u001b[0;34m,\u001b[0m \u001b[0;34m'West Virginia'\u001b[0m\u001b[0;34m,\u001b[0m \u001b[0;34m'Wichita St.'\u001b[0m\u001b[0;34m,\u001b[0m \u001b[0;34m'Florida'\u001b[0m\u001b[0;34m,\u001b[0m \u001b[0;34m'Texas Tech'\u001b[0m\u001b[0;34m,\u001b[0m \u001b[0;34m'Butler'\u001b[0m\u001b[0;34m,\u001b[0m \u001b[0;34m'Purdue'\u001b[0m\u001b[0;34m,\u001b[0m \u001b[0;34m'Kansas'\u001b[0m\u001b[0;34m,\u001b[0m \u001b[0;34m'Seton Hall'\u001b[0m\u001b[0;34m,\u001b[0m \u001b[0;34m'Clemson'\u001b[0m\u001b[0;34m,\u001b[0m \u001b[0;34m'Auburn'\u001b[0m\u001b[0;34m,\u001b[0m \u001b[0;34m'Syracuse'\u001b[0m\u001b[0;34m,\u001b[0m \u001b[0;34m'Michigan St.'\u001b[0m\u001b[0;34m,\u001b[0m \u001b[0;34m'Oklahoma'\u001b[0m\u001b[0;34m,\u001b[0m \u001b[0;34m'Duke'\u001b[0m\u001b[0;34m]\u001b[0m\u001b[0;34m}\u001b[0m\u001b[0;34m\u001b[0m\u001b[0m\n\u001b[1;32m      2\u001b[0m \u001b[0mn\u001b[0m \u001b[0;34m=\u001b[0m \u001b[0;36m32\u001b[0m\u001b[0;34m\u001b[0m\u001b[0m\n\u001b[0;32m----> 3\u001b[0;31m \u001b[0mfull_tourney_gnb\u001b[0m\u001b[0;34m[\u001b[0m\u001b[0mn\u001b[0m\u001b[0;34m/\u001b[0m\u001b[0;36m2\u001b[0m\u001b[0;34m]\u001b[0m \u001b[0;34m=\u001b[0m \u001b[0madvance\u001b[0m\u001b[0;34m(\u001b[0m\u001b[0mactual_tourney\u001b[0m\u001b[0;34m[\u001b[0m\u001b[0mn\u001b[0m\u001b[0;34m]\u001b[0m\u001b[0;34m,\u001b[0m\u001b[0mgnb\u001b[0m\u001b[0;34m)\u001b[0m\u001b[0;34m\u001b[0m\u001b[0m\n\u001b[0m\u001b[1;32m      4\u001b[0m \u001b[0mfull_tourney_svc\u001b[0m\u001b[0;34m[\u001b[0m\u001b[0mn\u001b[0m\u001b[0;34m/\u001b[0m\u001b[0;36m2\u001b[0m\u001b[0;34m]\u001b[0m \u001b[0;34m=\u001b[0m \u001b[0madvance\u001b[0m\u001b[0;34m(\u001b[0m\u001b[0mactual_tourney\u001b[0m\u001b[0;34m[\u001b[0m\u001b[0mn\u001b[0m\u001b[0;34m]\u001b[0m\u001b[0;34m,\u001b[0m\u001b[0msvc\u001b[0m\u001b[0;34m)\u001b[0m\u001b[0;34m\u001b[0m\u001b[0m\n\u001b[1;32m      5\u001b[0m \u001b[0mfull_tourney_lgr\u001b[0m\u001b[0;34m[\u001b[0m\u001b[0mn\u001b[0m\u001b[0;34m/\u001b[0m\u001b[0;36m2\u001b[0m\u001b[0;34m]\u001b[0m \u001b[0;34m=\u001b[0m \u001b[0madvance\u001b[0m\u001b[0;34m(\u001b[0m\u001b[0mactual_tourney\u001b[0m\u001b[0;34m[\u001b[0m\u001b[0mn\u001b[0m\u001b[0;34m]\u001b[0m\u001b[0;34m,\u001b[0m\u001b[0mlgr\u001b[0m\u001b[0;34m)\u001b[0m\u001b[0;34m\u001b[0m\u001b[0m\n",
      "\u001b[0;32m<ipython-input-8-9bbd9fc20768>\u001b[0m in \u001b[0;36madvance\u001b[0;34m(bracket, clf)\u001b[0m\n\u001b[1;32m     24\u001b[0m         \u001b[0mteam1_final\u001b[0m \u001b[0;34m=\u001b[0m \u001b[0mnp\u001b[0m\u001b[0;34m.\u001b[0m\u001b[0mhstack\u001b[0m\u001b[0;34m(\u001b[0m\u001b[0;34m(\u001b[0m\u001b[0msc1_data\u001b[0m\u001b[0;34m,\u001b[0m\u001b[0mteam1\u001b[0m\u001b[0;34m)\u001b[0m\u001b[0;34m)\u001b[0m\u001b[0;34m\u001b[0m\u001b[0m\n\u001b[1;32m     25\u001b[0m         \u001b[0mteam2_name\u001b[0m \u001b[0;34m=\u001b[0m \u001b[0mbracket\u001b[0m\u001b[0;34m[\u001b[0m\u001b[0;36m2\u001b[0m\u001b[0;34m*\u001b[0m\u001b[0mi\u001b[0m\u001b[0;34m+\u001b[0m\u001b[0;36m1\u001b[0m\u001b[0;34m]\u001b[0m\u001b[0;34m\u001b[0m\u001b[0m\n\u001b[0;32m---> 26\u001b[0;31m         \u001b[0mteam2\u001b[0m \u001b[0;34m=\u001b[0m \u001b[0mall_data\u001b[0m\u001b[0;34m.\u001b[0m\u001b[0mloc\u001b[0m\u001b[0;34m[\u001b[0m\u001b[0mteam2_name\u001b[0m\u001b[0;34m]\u001b[0m\u001b[0;34m\u001b[0m\u001b[0m\n\u001b[0m\u001b[1;32m     27\u001b[0m         \u001b[0;31m# Get average team stats (scouting report)\u001b[0m\u001b[0;34m\u001b[0m\u001b[0;34m\u001b[0m\u001b[0m\n\u001b[1;32m     28\u001b[0m         \u001b[0msc_data\u001b[0m \u001b[0;34m=\u001b[0m \u001b[0mpd\u001b[0m\u001b[0;34m.\u001b[0m\u001b[0mread_csv\u001b[0m\u001b[0;34m(\u001b[0m\u001b[0;34m'./Data/2018/'\u001b[0m\u001b[0;34m+\u001b[0m\u001b[0mteam2_name\u001b[0m\u001b[0;34m+\u001b[0m\u001b[0;34m'/Scouting_Report_csv'\u001b[0m\u001b[0;34m)\u001b[0m\u001b[0;34m\u001b[0m\u001b[0m\n",
      "\u001b[0;32m/anaconda/lib/python3.6/site-packages/pandas/core/indexing.py\u001b[0m in \u001b[0;36m__getitem__\u001b[0;34m(self, key)\u001b[0m\n\u001b[1;32m   1326\u001b[0m         \u001b[0;32melse\u001b[0m\u001b[0;34m:\u001b[0m\u001b[0;34m\u001b[0m\u001b[0m\n\u001b[1;32m   1327\u001b[0m             \u001b[0mkey\u001b[0m \u001b[0;34m=\u001b[0m \u001b[0mcom\u001b[0m\u001b[0;34m.\u001b[0m\u001b[0m_apply_if_callable\u001b[0m\u001b[0;34m(\u001b[0m\u001b[0mkey\u001b[0m\u001b[0;34m,\u001b[0m \u001b[0mself\u001b[0m\u001b[0;34m.\u001b[0m\u001b[0mobj\u001b[0m\u001b[0;34m)\u001b[0m\u001b[0;34m\u001b[0m\u001b[0m\n\u001b[0;32m-> 1328\u001b[0;31m             \u001b[0;32mreturn\u001b[0m \u001b[0mself\u001b[0m\u001b[0;34m.\u001b[0m\u001b[0m_getitem_axis\u001b[0m\u001b[0;34m(\u001b[0m\u001b[0mkey\u001b[0m\u001b[0;34m,\u001b[0m \u001b[0maxis\u001b[0m\u001b[0;34m=\u001b[0m\u001b[0;36m0\u001b[0m\u001b[0;34m)\u001b[0m\u001b[0;34m\u001b[0m\u001b[0m\n\u001b[0m\u001b[1;32m   1329\u001b[0m \u001b[0;34m\u001b[0m\u001b[0m\n\u001b[1;32m   1330\u001b[0m     \u001b[0;32mdef\u001b[0m \u001b[0m_is_scalar_access\u001b[0m\u001b[0;34m(\u001b[0m\u001b[0mself\u001b[0m\u001b[0;34m,\u001b[0m \u001b[0mkey\u001b[0m\u001b[0;34m)\u001b[0m\u001b[0;34m:\u001b[0m\u001b[0;34m\u001b[0m\u001b[0m\n",
      "\u001b[0;32m/anaconda/lib/python3.6/site-packages/pandas/core/indexing.py\u001b[0m in \u001b[0;36m_getitem_axis\u001b[0;34m(self, key, axis)\u001b[0m\n\u001b[1;32m   1549\u001b[0m \u001b[0;34m\u001b[0m\u001b[0m\n\u001b[1;32m   1550\u001b[0m         \u001b[0;31m# fall thru to straight lookup\u001b[0m\u001b[0;34m\u001b[0m\u001b[0;34m\u001b[0m\u001b[0m\n\u001b[0;32m-> 1551\u001b[0;31m         \u001b[0mself\u001b[0m\u001b[0;34m.\u001b[0m\u001b[0m_has_valid_type\u001b[0m\u001b[0;34m(\u001b[0m\u001b[0mkey\u001b[0m\u001b[0;34m,\u001b[0m \u001b[0maxis\u001b[0m\u001b[0;34m)\u001b[0m\u001b[0;34m\u001b[0m\u001b[0m\n\u001b[0m\u001b[1;32m   1552\u001b[0m         \u001b[0;32mreturn\u001b[0m \u001b[0mself\u001b[0m\u001b[0;34m.\u001b[0m\u001b[0m_get_label\u001b[0m\u001b[0;34m(\u001b[0m\u001b[0mkey\u001b[0m\u001b[0;34m,\u001b[0m \u001b[0maxis\u001b[0m\u001b[0;34m=\u001b[0m\u001b[0maxis\u001b[0m\u001b[0;34m)\u001b[0m\u001b[0;34m\u001b[0m\u001b[0m\n\u001b[1;32m   1553\u001b[0m \u001b[0;34m\u001b[0m\u001b[0m\n",
      "\u001b[0;32m/anaconda/lib/python3.6/site-packages/pandas/core/indexing.py\u001b[0m in \u001b[0;36m_has_valid_type\u001b[0;34m(self, key, axis)\u001b[0m\n\u001b[1;32m   1440\u001b[0m                 \u001b[0;32mraise\u001b[0m\u001b[0;34m\u001b[0m\u001b[0m\n\u001b[1;32m   1441\u001b[0m             \u001b[0;32mexcept\u001b[0m\u001b[0;34m:\u001b[0m\u001b[0;34m\u001b[0m\u001b[0m\n\u001b[0;32m-> 1442\u001b[0;31m                 \u001b[0merror\u001b[0m\u001b[0;34m(\u001b[0m\u001b[0;34m)\u001b[0m\u001b[0;34m\u001b[0m\u001b[0m\n\u001b[0m\u001b[1;32m   1443\u001b[0m \u001b[0;34m\u001b[0m\u001b[0m\n\u001b[1;32m   1444\u001b[0m         \u001b[0;32mreturn\u001b[0m \u001b[0;32mTrue\u001b[0m\u001b[0;34m\u001b[0m\u001b[0m\n",
      "\u001b[0;32m/anaconda/lib/python3.6/site-packages/pandas/core/indexing.py\u001b[0m in \u001b[0;36merror\u001b[0;34m()\u001b[0m\n\u001b[1;32m   1427\u001b[0m                                     \"key\")\n\u001b[1;32m   1428\u001b[0m                 raise KeyError(\"the label [%s] is not in the [%s]\" %\n\u001b[0;32m-> 1429\u001b[0;31m                                (key, self.obj._get_axis_name(axis)))\n\u001b[0m\u001b[1;32m   1430\u001b[0m \u001b[0;34m\u001b[0m\u001b[0m\n\u001b[1;32m   1431\u001b[0m             \u001b[0;32mtry\u001b[0m\u001b[0;34m:\u001b[0m\u001b[0;34m\u001b[0m\u001b[0m\n",
      "\u001b[0;31mKeyError\u001b[0m: 'the label [Kansas State] is not in the [index]'"
     ]
    }
   ],
   "source": [
    "actual_tourney = {64:teams2018_lgr, 32:['Virginia', 'Kansas State', 'Kentucky', 'Arizona', 'Miami FL', 'Tennessee', 'Nevada', 'Cincinnati', 'Xavier', 'Florida St.', 'South Dakota St.', 'Gonzaga', 'San Diego St.', 'Michigan', 'Texas A&M', 'North Carolina', 'Villanova', 'Alabama', 'West Virginia', 'Wichita St.', 'Florida', 'Texas Tech', 'Butler', 'Purdue', 'Kansas', 'Seton Hall', 'Clemson', 'Auburn', 'Syracuse', 'Michigan St.', 'Oklahoma', 'Duke']}\n",
    "n = 32\n",
    "full_tourney_gnb[n/2] = advance(actual_tourney[n],gnb)\n",
    "full_tourney_svc[n/2] = advance(actual_tourney[n],svc)\n",
    "full_tourney_lgr[n/2] = advance(actual_tourney[n],lgr)\n",
    "n = n/2"
   ]
  },
  {
   "cell_type": "code",
   "execution_count": 114,
   "metadata": {
    "collapsed": false
   },
   "outputs": [
    {
     "name": "stdout",
     "output_type": "stream",
     "text": [
      "['Virginia', 'Kentucky', 'Miami FL', 'Cincinnati', 'Florida St.', 'Gonzaga', 'Michigan', 'North Carolina', 'Villanova', 'West Virginia', 'Florida', 'Butler', 'Kansas', 'Clemson', 'Michigan St.', 'Duke']\n"
     ]
    }
   ],
   "source": [
    "print(full_tourney_gnb[16])"
   ]
  },
  {
   "cell_type": "code",
   "execution_count": 115,
   "metadata": {
    "collapsed": false
   },
   "outputs": [
    {
     "name": "stdout",
     "output_type": "stream",
     "text": [
      "['Virginia', 'Kentucky', 'Miami FL', 'Cincinnati', 'Xavier', 'South Dakota St.', 'Michigan', 'Texas A&M', 'Villanova', 'West Virginia', 'Texas Tech', 'Butler', 'Kansas', 'Clemson', 'Syracuse', 'Oklahoma']\n"
     ]
    }
   ],
   "source": [
    "print(full_tourney_svc[16])"
   ]
  },
  {
   "cell_type": "code",
   "execution_count": 116,
   "metadata": {
    "collapsed": false
   },
   "outputs": [
    {
     "name": "stdout",
     "output_type": "stream",
     "text": [
      "['Virginia', 'Kentucky', 'Tennessee', 'Nevada', 'Xavier', 'Gonzaga', 'Michigan', 'North Carolina', 'Villanova', 'West Virginia', 'Florida', 'Butler', 'Kansas', 'Clemson', 'Syracuse', 'Duke']\n"
     ]
    }
   ],
   "source": [
    "print(full_tourney_lgr[16])"
   ]
  },
  {
   "cell_type": "code",
   "execution_count": 149,
   "metadata": {
    "collapsed": false
   },
   "outputs": [
    {
     "name": "stderr",
     "output_type": "stream",
     "text": [
      "/anaconda/lib/python3.6/site-packages/ipykernel/__main__.py:23: FutureWarning: reshape is deprecated and will raise in a subsequent release. Please use .values.reshape(...) instead\n",
      "/anaconda/lib/python3.6/site-packages/ipykernel/__main__.py:33: FutureWarning: reshape is deprecated and will raise in a subsequent release. Please use .values.reshape(...) instead\n"
     ]
    }
   ],
   "source": [
    "actual_tourney[16] = ['Virginia', 'Kentucky', 'Miami FL', 'Cincinnati', 'Florida St.', 'Gonzaga', 'Michigan', 'North Carolina', 'Villanova', 'West Virginia', 'Florida', 'Purdue', 'Kansas', 'Clemson', 'Syracuse', 'Duke']\n",
    "n = 16\n",
    "full_tourney_gnb[n/2] = advance(actual_tourney[n],gnb)\n",
    "full_tourney_svc[n/2] = advance(actual_tourney[n],svc)\n",
    "full_tourney_lgr[n/2] = advance(actual_tourney[n],lgr)\n",
    "n = n/2"
   ]
  },
  {
   "cell_type": "code",
   "execution_count": 150,
   "metadata": {
    "collapsed": false
   },
   "outputs": [
    {
     "name": "stdout",
     "output_type": "stream",
     "text": [
      "['Virginia', 'Cincinnati', 'Gonzaga', 'North Carolina', 'West Virginia', 'Purdue', 'Kansas', 'Duke']\n"
     ]
    }
   ],
   "source": [
    "print(full_tourney_gnb[8])"
   ]
  },
  {
   "cell_type": "code",
   "execution_count": 151,
   "metadata": {
    "collapsed": false
   },
   "outputs": [
    {
     "name": "stdout",
     "output_type": "stream",
     "text": [
      "['Virginia', 'Miami FL', 'Gonzaga', 'Michigan', 'Villanova', 'Florida', 'Kansas', 'Syracuse']\n"
     ]
    }
   ],
   "source": [
    "print(full_tourney_svc[8])"
   ]
  },
  {
   "cell_type": "code",
   "execution_count": 152,
   "metadata": {
    "collapsed": false
   },
   "outputs": [
    {
     "name": "stdout",
     "output_type": "stream",
     "text": [
      "['Virginia', 'Miami FL', 'Gonzaga', 'North Carolina', 'West Virginia', 'Florida', 'Kansas', 'Duke']\n"
     ]
    }
   ],
   "source": [
    "print(full_tourney_lgr[8])"
   ]
  },
  {
   "cell_type": "code",
   "execution_count": 157,
   "metadata": {
    "collapsed": false
   },
   "outputs": [
    {
     "name": "stderr",
     "output_type": "stream",
     "text": [
      "/anaconda/lib/python3.6/site-packages/ipykernel/__main__.py:23: FutureWarning: reshape is deprecated and will raise in a subsequent release. Please use .values.reshape(...) instead\n",
      "/anaconda/lib/python3.6/site-packages/ipykernel/__main__.py:33: FutureWarning: reshape is deprecated and will raise in a subsequent release. Please use .values.reshape(...) instead\n"
     ]
    }
   ],
   "source": [
    "actual_tourney[8] = ['Virginia', 'Cincinnati', 'Gonzaga', 'North Carolina', 'West Virginia', 'Florida', 'Kansas', 'Duke']\n",
    "n = 8\n",
    "full_tourney_gnb[n/2] = advance(actual_tourney[n],gnb)\n",
    "full_tourney_svc[n/2] = advance(actual_tourney[n],svc)\n",
    "full_tourney_lgr[n/2] = advance(actual_tourney[n],lgr)\n",
    "n = n/2"
   ]
  },
  {
   "cell_type": "code",
   "execution_count": 158,
   "metadata": {
    "collapsed": false
   },
   "outputs": [
    {
     "name": "stdout",
     "output_type": "stream",
     "text": [
      "['Virginia', 'North Carolina', 'West Virginia', 'Duke']\n"
     ]
    }
   ],
   "source": [
    "print(full_tourney_gnb[4])"
   ]
  },
  {
   "cell_type": "code",
   "execution_count": 159,
   "metadata": {
    "collapsed": false
   },
   "outputs": [
    {
     "name": "stdout",
     "output_type": "stream",
     "text": [
      "['Virginia', 'Gonzaga', 'Florida', 'Duke']\n"
     ]
    }
   ],
   "source": [
    "print(full_tourney_svc[4])"
   ]
  },
  {
   "cell_type": "code",
   "execution_count": 160,
   "metadata": {
    "collapsed": false
   },
   "outputs": [
    {
     "name": "stdout",
     "output_type": "stream",
     "text": [
      "['Virginia', 'North Carolina', 'West Virginia', 'Duke']\n"
     ]
    }
   ],
   "source": [
    "print(full_tourney_lgr[4])"
   ]
  },
  {
   "cell_type": "code",
   "execution_count": 140,
   "metadata": {
    "collapsed": false
   },
   "outputs": [
    {
     "name": "stderr",
     "output_type": "stream",
     "text": [
      "/anaconda/lib/python3.6/site-packages/ipykernel/__main__.py:23: FutureWarning: reshape is deprecated and will raise in a subsequent release. Please use .values.reshape(...) instead\n",
      "/anaconda/lib/python3.6/site-packages/ipykernel/__main__.py:33: FutureWarning: reshape is deprecated and will raise in a subsequent release. Please use .values.reshape(...) instead\n"
     ]
    }
   ],
   "source": [
    "actual_tourney[4] = ['Virginia', 'North Carolina', 'Butler', 'Duke']\n",
    "n = 4\n",
    "full_tourney_gnb[n/2] = advance(actual_tourney[n],gnb)\n",
    "full_tourney_svc[n/2] = advance(actual_tourney[n],svc)\n",
    "full_tourney_lgr[n/2] = advance(actual_tourney[n],lgr)\n",
    "n = n/2"
   ]
  },
  {
   "cell_type": "code",
   "execution_count": 141,
   "metadata": {
    "collapsed": false
   },
   "outputs": [
    {
     "name": "stdout",
     "output_type": "stream",
     "text": [
      "['North Carolina', 'Duke']\n"
     ]
    }
   ],
   "source": [
    "print(full_tourney_gnb[2])"
   ]
  },
  {
   "cell_type": "code",
   "execution_count": 142,
   "metadata": {
    "collapsed": false
   },
   "outputs": [
    {
     "name": "stdout",
     "output_type": "stream",
     "text": [
      "['Virginia', 'Butler']\n"
     ]
    }
   ],
   "source": [
    "print(full_tourney_svc[2])"
   ]
  },
  {
   "cell_type": "code",
   "execution_count": 143,
   "metadata": {
    "collapsed": false
   },
   "outputs": [
    {
     "name": "stdout",
     "output_type": "stream",
     "text": [
      "['North Carolina', 'Duke']\n"
     ]
    }
   ],
   "source": [
    "print(full_tourney_lgr[2])"
   ]
  },
  {
   "cell_type": "code",
   "execution_count": 144,
   "metadata": {
    "collapsed": false
   },
   "outputs": [
    {
     "name": "stderr",
     "output_type": "stream",
     "text": [
      "/anaconda/lib/python3.6/site-packages/ipykernel/__main__.py:23: FutureWarning: reshape is deprecated and will raise in a subsequent release. Please use .values.reshape(...) instead\n",
      "/anaconda/lib/python3.6/site-packages/ipykernel/__main__.py:33: FutureWarning: reshape is deprecated and will raise in a subsequent release. Please use .values.reshape(...) instead\n"
     ]
    }
   ],
   "source": [
    "actual_tourney[2] = ['North Carolina','Duke']\n",
    "n = 2\n",
    "full_tourney_gnb[n/2] = advance(actual_tourney[n],gnb)\n",
    "full_tourney_svc[n/2] = advance(actual_tourney[n],svc)\n",
    "full_tourney_lgr[n/2] = advance(actual_tourney[n],lgr)\n",
    "n = n/2"
   ]
  },
  {
   "cell_type": "code",
   "execution_count": 145,
   "metadata": {
    "collapsed": false
   },
   "outputs": [
    {
     "name": "stdout",
     "output_type": "stream",
     "text": [
      "['Duke']\n"
     ]
    }
   ],
   "source": [
    "print(full_tourney_gnb[1])"
   ]
  },
  {
   "cell_type": "code",
   "execution_count": 146,
   "metadata": {
    "collapsed": false
   },
   "outputs": [
    {
     "name": "stdout",
     "output_type": "stream",
     "text": [
      "['Duke']\n"
     ]
    }
   ],
   "source": [
    "print(full_tourney_svc[1])"
   ]
  },
  {
   "cell_type": "code",
   "execution_count": 147,
   "metadata": {
    "collapsed": false
   },
   "outputs": [
    {
     "name": "stdout",
     "output_type": "stream",
     "text": [
      "['Duke']\n"
     ]
    }
   ],
   "source": [
    "print(full_tourney_lgr[1])"
   ]
  },
  {
   "cell_type": "code",
   "execution_count": 24,
   "metadata": {
    "collapsed": true
   },
   "outputs": [],
   "source": [
    "actual_results = {64:teams2018_gnb,\n",
    "                  32:['UMBC','Kansas St.','Kentucky','Buffalo','Loyola-Chicago','Tennessee','Nevada','Cincinnati','Xavier','Florida St.','Ohio St.','Gonzaga','Houston','Michigan','Texas A&M','North Carolina','Villanova','Alabama','West Virginia','Marshall','Florida','Texas Tech','Butler','Purdue','Kansas','Seton Hall','Clemson','Auburn','Syracuse','Michigan St.','Rhode Island','Duke'],\n",
    "                 16:['Kansas St.','Kentucky','Loyola-Chicago','Nevada','Florida St.','Gonzaga','Michigan','Texas A&M','Villanova','West Virginia','Texas Tech','Purdue','Kansas','Clemson','Syracuse','Duke'],\n",
    "                 8:['Kansas St.','Loyola-Chicago','Florida St.','Michigan','Villanova','Texas Tech','Kansas','Duke'],\n",
    "                 4:['Loyola-Chicago','Michigan','Villanova','Kansas'],\n",
    "                 2:['Michigan','Villanova'],\n",
    "                 1:['Villanova']}\n",
    "def score(bracket) :\n",
    "    '''\n",
    "    Takes in a dictionary form bracket (like actual_results) and scores it using espn standard scoring.\n",
    "    '''\n",
    "    scores = [10*2**i for i in range(6)][::-1]\n",
    "    total = 0\n",
    "    for i in range(6) :\n",
    "        total += scores[i]*np.sum([actual_results[2**i][j] == bracket[2**i][j] for j in range(len(bracket[2**i]))])\n",
    "    return total\n",
    "\n",
    "def score_progression(bracket) :\n",
    "    scores = [10*2**i for i in range(6)][::-1]\n",
    "    progression = [0]\n",
    "    for i in range(6) :\n",
    "        progression.append(scores[5-i]*np.sum([actual_results[2**(5-i)][j] == bracket[2**(5-i)][j] for j in range(len(bracket[2**(5-i)]))]) + progression[-1])\n",
    "        #print(progression)\n",
    "    return progression"
   ]
  },
  {
   "cell_type": "code",
   "execution_count": 25,
   "metadata": {
    "collapsed": false
   },
   "outputs": [
    {
     "name": "stdout",
     "output_type": "stream",
     "text": [
      "GNB:510\n",
      "SVC:860\n",
      "LGR:850\n",
      "RFC:610\n",
      "MYC:360\n",
      "Rand:280\n"
     ]
    }
   ],
   "source": [
    "print('GNB:'+str(score(full_tourney_gnb)))\n",
    "print('SVC:'+str(score(full_tourney_svc)))\n",
    "print('LGR:'+str(score(full_tourney_lgr)))\n",
    "print('RFC:'+str(score(full_tourney_rfc)))\n",
    "print('MYC:'+str(score(full_tourney_myc)))\n",
    "print('Rand:'+str(score(full_tourney_rand)))"
   ]
  },
  {
   "cell_type": "code",
   "execution_count": 26,
   "metadata": {
    "collapsed": false
   },
   "outputs": [],
   "source": [
    "rand_prog = [0,160,240,280,280,280,280]"
   ]
  },
  {
   "cell_type": "code",
   "execution_count": 27,
   "metadata": {
    "collapsed": false
   },
   "outputs": [
    {
     "name": "stdout",
     "output_type": "stream",
     "text": [
      "[0, 240, 420, 540, 620, 620, 620]\n",
      "[0, 250, 430, 510, 510, 510, 510]\n",
      "[0, 260, 420, 540, 700, 860, 860]\n",
      "[0, 250, 410, 530, 690, 850, 850]\n",
      "[0, 250, 410, 530, 610, 610, 610]\n",
      "[0, 160, 280, 360, 360, 360, 360]\n",
      "[0, 160, 240, 280, 280, 280, 280]\n"
     ]
    },
    {
     "data": {
      "image/png": "[encoded data removed]",
      "text/plain": [
       "<matplotlib.figure.Figure at 0x1a13f98550>"
      ]
     },
     "metadata": {},
     "output_type": "display_data"
    }
   ],
   "source": [
    "prn_prog = score_progression(full_tourney_pagerank)\n",
    "gnb_prog = score_progression(full_tourney_gnb)\n",
    "svc_prog = score_progression(full_tourney_svc)\n",
    "lgr_prog = score_progression(full_tourney_lgr)\n",
    "rfc_prog = score_progression(full_tourney_rfc)\n",
    "myc_prog = score_progression(full_tourney_myc)\n",
    "#rand_prog = score_progression(full_tourney_rand)\n",
    "print(prn_prog)\n",
    "print(gnb_prog)\n",
    "print(svc_prog)\n",
    "print(lgr_prog)\n",
    "print(rfc_prog)\n",
    "print(myc_prog)\n",
    "print(rand_prog)\n",
    "rounds = np.arange(0,7,1)\n",
    "plt.plot(rounds,prn_prog,label='PageRank',linewidth=1.0)\n",
    "plt.plot(rounds,rfc_prog,label='RFC',linewidth=1.0)\n",
    "plt.plot(rounds,gnb_prog,label='GNB',linewidth=1.0)\n",
    "plt.plot(rounds,svc_prog,label='SVM',linewidth=1.0)\n",
    "plt.plot(rounds,lgr_prog,label='LGR',linewidth=1.0)\n",
    "plt.plot(rounds,myc_prog,label='MYC',linewidth=1.0)\n",
    "plt.plot(rounds,rand_prog,label='Rand',linewidth=1.0)\n",
    "plt.title('Score by Round')\n",
    "plt.xlabel('Round')\n",
    "plt.ylabel('Points')\n",
    "plt.axis([0,6,0,900])\n",
    "plt.legend()\n",
    "plt.savefig(\"Current_Scores.pdf\",bbox_inches=\"tight\")\n",
    "plt.show()"
   ]
  },
  {
   "cell_type": "code",
   "execution_count": 28,
   "metadata": {
    "collapsed": true
   },
   "outputs": [],
   "source": [
    "def count_impossible_games(bracket) :\n",
    "    '''\n",
    "    Counts num of impossible to guess games from past failures.\n",
    "    '''\n",
    "    total = 0\n",
    "    points = 0\n",
    "    ps = [20,40,80,160,320]\n",
    "    rn = [16,8,4,2,1]\n",
    "    for i in range(5) :\n",
    "        cur = 0\n",
    "        teams = bracket[rn[i]]\n",
    "        for team in teams :\n",
    "            if team not in actual_results[rn[i]*2] :\n",
    "                cur += 1\n",
    "        total += cur\n",
    "        points += ps[i]*cur\n",
    "    return total,points"
   ]
  },
  {
   "cell_type": "code",
   "execution_count": 29,
   "metadata": {
    "collapsed": false
   },
   "outputs": [
    {
     "name": "stdout",
     "output_type": "stream",
     "text": [
      "(10, 960)\n",
      "(12, 1080)\n",
      "(9, 820)\n",
      "(9, 820)\n",
      "(11, 1000)\n",
      "(18, 1200)\n",
      "(24, 1420)\n"
     ]
    }
   ],
   "source": [
    "print(count_impossible_games(full_tourney_pagerank))\n",
    "print(count_impossible_games(full_tourney_gnb))\n",
    "print(count_impossible_games(full_tourney_svc))\n",
    "print(count_impossible_games(full_tourney_lgr))\n",
    "print(count_impossible_games(full_tourney_rfc))\n",
    "print(count_impossible_games(full_tourney_myc))\n",
    "print(count_impossible_games(full_tourney_rand))"
   ]
  },
  {
   "cell_type": "code",
   "execution_count": 30,
   "metadata": {
    "collapsed": true
   },
   "outputs": [],
   "source": [
    "def count_ggc(bracket) :\n",
    "    '''\n",
    "    Counts the number of games correctly guessed\n",
    "    '''\n",
    "    total = 0\n",
    "    for i in range(6) :\n",
    "        total += np.sum([actual_results[2**i][j] == bracket[2**i][j] for j in range(len(bracket[2**i]))])\n",
    "    return total"
   ]
  },
  {
   "cell_type": "code",
   "execution_count": 31,
   "metadata": {
    "collapsed": false
   },
   "outputs": [
    {
     "name": "stdout",
     "output_type": "stream",
     "text": [
      "37\n",
      "36\n",
      "40\n",
      "39\n",
      "37\n",
      "24\n",
      "19\n"
     ]
    }
   ],
   "source": [
    "print(count_ggc(full_tourney_pagerank))\n",
    "print(count_ggc(full_tourney_gnb))\n",
    "print(count_ggc(full_tourney_svc))\n",
    "print(count_ggc(full_tourney_lgr))\n",
    "print(count_ggc(full_tourney_rfc))\n",
    "print(count_ggc(full_tourney_myc))\n",
    "print(count_ggc(full_tourney_rand))"
   ]
  },
  {
   "cell_type": "code",
   "execution_count": 32,
   "metadata": {
    "collapsed": false
   },
   "outputs": [],
   "source": [
    "methods = [full_tourney_pagerank,full_tourney_gnb,full_tourney_svc,full_tourney_lgr,full_tourney_rfc,full_tourney_myc,full_tourney_rand]\n",
    "meth_names = ['PageRank','GNB','SVM','LGR','RFC','MYC','Random']\n",
    "imp_stats = pd.DataFrame(index=meth_names,columns=['GGC','IGs'])\n",
    "ips_stats = pd.DataFrame(index=meth_names,columns=['IPs'])\n",
    "for i in range(len(methods)) :\n",
    "    if i == len(methods)-1 :\n",
    "        ips_stats.iloc[i,0] = 1360\n",
    "        imp_stats.iloc[i,0] = 21\n",
    "        imp_stats.iloc[i,1] = 21\n",
    "    else :\n",
    "        imp_games = count_impossible_games(methods[i])\n",
    "        ips_stats.iloc[i,0] = imp_games[1]\n",
    "        imp_stats.iloc[i,0] = count_ggc(methods[i])\n",
    "        imp_stats.iloc[i,1] = imp_games[0]"
   ]
  },
  {
   "cell_type": "code",
   "execution_count": 35,
   "metadata": {
    "collapsed": false
   },
   "outputs": [
    {
     "data": {
      "image/png": "[encoded data removed]",
      "text/plain": [
       "<matplotlib.figure.Figure at 0x10893b940>"
      ]
     },
     "metadata": {},
     "output_type": "display_data"
    }
   ],
   "source": [
    "fig, ax1 = plt.subplots(1, 1)\n",
    "imp_stats.plot(kind='barh',title='GGC vs IGs',ax=ax1,rot=0)\n",
    "ax1.legend(bbox_to_anchor=(1, 1), loc='upper left', ncol=1)\n",
    "plt.savefig(\"GGC_vs_IGs.pdf\",bbox_inches='tight')\n",
    "plt.show()"
   ]
  },
  {
   "cell_type": "code",
   "execution_count": 36,
   "metadata": {
    "collapsed": false
   },
   "outputs": [
    {
     "data": {
      "image/png": "[encoded data removed]",
      "text/plain": [
       "<matplotlib.figure.Figure at 0x10893b780>"
      ]
     },
     "metadata": {},
     "output_type": "display_data"
    }
   ],
   "source": [
    "fig, ax1 = plt.subplots(1, 1)\n",
    "ips_stats.plot(kind='barh',title='Impossible Points',ax=ax1,legend=None)\n",
    "plt.savefig(\"Impossible_Points.pdf\",bbox_inches=\"tight\")\n",
    "plt.show()"
   ]
  },
  {
   "cell_type": "code",
   "execution_count": null,
   "metadata": {
    "collapsed": true
   },
   "outputs": [],
   "source": []
  }
 ],
 "metadata": {
  "kernelspec": {
   "display_name": "Python 3",
   "language": "python",
   "name": "python3"
  },
  "language_info": {
   "codemirror_mode": {
    "name": "ipython",
    "version": 3
   },
   "file_extension": ".py",
   "mimetype": "text/x-python",
   "name": "python",
   "nbconvert_exporter": "python",
   "pygments_lexer": "ipython3",
   "version": "3.6.4"
  }
 },
 "nbformat": 4,
 "nbformat_minor": 2
}
