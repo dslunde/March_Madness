{
 "cells": [
  {
   "cell_type": "markdown",
   "metadata": {},
   "source": [
    "Darren Lund"
   ]
  },
  {
   "cell_type": "code",
   "execution_count": 1,
   "metadata": {
    "collapsed": true
   },
   "outputs": [],
   "source": [
    "import numpy as np\n",
    "import pandas as pd\n",
    "import os\n",
    "from matplotlib import pyplot as plt"
   ]
  },
  {
   "cell_type": "code",
   "execution_count": 4,
   "metadata": {
    "collapsed": false
   },
   "outputs": [],
   "source": [
    "# Load DATA\n",
    "path = './DATA/'\n",
    "\n",
    "# Split function (for 2-pt, 3-pt, and ft)\n",
    "def split(ratio) :\n",
    "    '''\n",
    "    Takes a list of number pairs separated by '-' and splits it into two lists, first and last\n",
    "    \n",
    "    Inputs :\n",
    "        ratio (list) - A list of number pairs\n",
    "        \n",
    "    Outputs :\n",
    "        made (list) - A list of the first numbers\n",
    "        attempt (list) - A list of the last numbers\n",
    "    '''\n",
    "    values = [value.split('-') for value in ratio]\n",
    "    made , attempt = [int(shots[0]) for shots in values], [int(shots[1]) for shots in values]\n",
    "    return made, attempt\n",
    "\n",
    "# Different types of shots\n",
    "shot_types = ['2Pt','3Pt','FT']\n",
    "\n",
    "# Walk through player files\n",
    "for dir_path , dir_name , file_names in os.walk(path) :\n",
    "    # List of players\n",
    "    players = {}\n",
    "    for name in file_names :\n",
    "        # Only worry about cleaned data\n",
    "        if name[-3:] == 'csv' :\n",
    "            # Don't get the Scouting report\n",
    "            if name[:8] != 'Scouting' :\n",
    "                # Read player data\n",
    "                players[name[:-6]] = pd.read_csv(os.path.join(dir_path,name))\n",
    "    # Empty dict for storing team totals later\n",
    "    team_values = {}\n",
    "    # Get total team values\n",
    "    for player in players.keys() :\n",
    "        for shot_type in shot_types :\n",
    "            # Split the number of made and attempted\n",
    "            made , attempt = split(players[player][shot_type].values)\n",
    "            # Add the number of shots player attempted to total team shots for that game\n",
    "            if shot_type in team_values.keys() :\n",
    "                team_values[shot_type] = [team_values[shot_type][i] + attempt[i] for i in range(len(attempt))]\n",
    "            else :\n",
    "                team_values[shot_type] = attempt\n",
    "            # Create the percentage tab\n",
    "            players[player][shot_type+' %'] = [made[i] / attempt[i] if attempt[i] != 0 else 0 for i in range(len(attempt))]\n",
    "    # Add %Att for 2s, 3s, and FT\n",
    "    for player in players.keys() :\n",
    "        for shot_type in shot_types :\n",
    "            # Split number of made and attempted\n",
    "            made , attempt = split(players[player][shot_type].values)\n",
    "            # Get list of percentages\n",
    "            perc_att = [attempt[i] / team_values[shot_type][i] if team_values[shot_type][i] != 0 else 0 for i in range(len(attempt))]\n",
    "            # Create the new column\n",
    "            players[player][shot_type+' %Att'] = perc_att\n",
    "        # Calculate apprx points prevented from blocks and steals\n",
    "        points_prev = [2*(players[player].loc[i]['Blk'] + players[player].loc[i]['Stl'] - players[player].loc[i]['TO']) for i in players[player].index]\n",
    "        # Add data to player\n",
    "        players[player]['Pnts-Prev'] = points_prev\n",
    "        # Get results for point margin\n",
    "        res = players[player]['Result']\n",
    "        # Gets 'W' for win and 'L' for loss\n",
    "        result = [res[i][0] for i in range(len(res))]\n",
    "        # Resets it to exclude the 'W' or 'L'\n",
    "        res = [res[i][3:] for i in range(len(res))]\n",
    "        # Split the scores\n",
    "        score_1 , score_2 = split(res)\n",
    "        # Creates the margin list\n",
    "        margin = [abs(score_1[i]-score_2[i]) if result[i]=='W' else -abs(score_1[i]-score_2[i]) for i in range(len(score_1))]\n",
    "        # Adds the margin column\n",
    "        players[player]['Marg'] = margin\n",
    "        # Refilter to remove extra indices\n",
    "        players[player] = players[player].filter(['Date','Opponent','Result','OTs','Site',\n",
    "                                                  'Conference','MP','ORtg','%Ps','Pts','2Pt',\n",
    "                                                  '3Pt','FT','OR','DR','A','TO','Blk','Stl','PF',\n",
    "                                                  '2Pt %','3Pt %','FT %','2Pt %Att','3Pt %Att',\n",
    "                                                  'FT %Att','Pnts-Prev','Marg'])\n",
    "        # Save new file\n",
    "        players[player].to_csv(os.path.join(dir_path,player)+'_adj')"
   ]
  },
  {
   "cell_type": "markdown",
   "metadata": {},
   "source": [
    "The columns I added to individual player data are the percent of the team shots each player made (for 2s, 3s, and free throws), an approximate points prevented variable (calculated by multiplying number of blocks and number of steals by 2, then subtracting 2 for each turnover), and a margin variable indicating how many more (less if negative) points the team had at the end of the game.  The reason for the first three is so that I can look at approximately how many shots each individual player contributed per game of all kinds, so to better understand their offensive contribution to the game as a whole.  In like manner, points prevented is to better understand the defensive contribution each player made.  The margin variable makes it easier to compare the overall result of the game (win or lose by x points) together with each player's individual contributions.\n",
    "\n",
    "I had to redo a bit of my data cleaning because I realized that I dropped games where a player didn't play at all, which threw off my numbers a bit.  To remedy this, I went back and switch all games that were \"Did not play\" with a stat of either $0$ or $0-0$.  While I'm currently not sure how exactly I want to handle games that they didn't participate in, I feel this is the best way to currently store the information.  It's simple enough to fix if later on I decide that it needs to be a different value."
   ]
  },
  {
   "cell_type": "code",
   "execution_count": null,
   "metadata": {
    "collapsed": true
   },
   "outputs": [],
   "source": []
  }
 ],
 "metadata": {
  "kernelspec": {
   "display_name": "Python 3",
   "language": "python",
   "name": "python3"
  },
  "language_info": {
   "codemirror_mode": {
    "name": "ipython",
    "version": 3
   },
   "file_extension": ".py",
   "mimetype": "text/x-python",
   "name": "python",
   "nbconvert_exporter": "python",
   "pygments_lexer": "ipython3",
   "version": "3.6.0"
  }
 },
 "nbformat": 4,
 "nbformat_minor": 2
}
